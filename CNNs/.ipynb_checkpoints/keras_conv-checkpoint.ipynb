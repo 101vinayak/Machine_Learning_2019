{
 "cells": [
  {
   "cell_type": "code",
   "execution_count": 1,
   "metadata": {},
   "outputs": [
    {
     "name": "stderr",
     "output_type": "stream",
     "text": [
      "Using TensorFlow backend.\n"
     ]
    }
   ],
   "source": [
    "import numpy as np\n",
    "import pandas as pd\n",
    "import matplotlib.pyplot as plt\n",
    "from keras.models import Sequential\n",
    "from keras.layers import Dense, Conv2D, MaxPooling2D, Flatten, Dropout\n",
    "from keras.optimizers import Adam\n",
    "from keras.utils import np_utils"
   ]
  },
  {
   "cell_type": "code",
   "execution_count": 3,
   "metadata": {},
   "outputs": [
    {
     "name": "stdout",
     "output_type": "stream",
     "text": [
      "(239999, 785)\n"
     ]
    },
    {
     "data": {
      "text/plain": [
       "'\\nX = x[:,1:]\\ny = x[:,0]\\nX = X/255.0\\nX = X.reshape((-1,28,28,1))\\ny = np_utils.to_categorical(y)\\nprint (X.shape, y.shape)\\n'"
      ]
     },
     "execution_count": 3,
     "metadata": {},
     "output_type": "execute_result"
    }
   ],
   "source": [
    "data = pd.read_csv(\"emnist-digits-train.csv\")\n",
    "x = data.values\n",
    "\n",
    "print(x.shape)\n",
    "'''\n",
    "X = x[:,1:]\n",
    "y = x[:,0]\n",
    "X = X/255.0\n",
    "X = X.reshape((-1,28,28,1))\n",
    "y = np_utils.to_categorical(y)\n",
    "print (X.shape, y.shape)\n",
    "'''"
   ]
  },
  {
   "cell_type": "code",
   "execution_count": 6,
   "metadata": {},
   "outputs": [
    {
     "name": "stdout",
     "output_type": "stream",
     "text": [
      "_________________________________________________________________\n",
      "Layer (type)                 Output Shape              Param #   \n",
      "=================================================================\n",
      "conv2d_6 (Conv2D)            (None, 26, 26, 16)        160       \n",
      "_________________________________________________________________\n",
      "conv2d_7 (Conv2D)            (None, 24, 24, 32)        4640      \n",
      "_________________________________________________________________\n",
      "dropout_3 (Dropout)          (None, 24, 24, 32)        0         \n",
      "_________________________________________________________________\n",
      "max_pooling2d_3 (MaxPooling2 (None, 12, 12, 32)        0         \n",
      "_________________________________________________________________\n",
      "conv2d_8 (Conv2D)            (None, 10, 10, 64)        18496     \n",
      "_________________________________________________________________\n",
      "conv2d_9 (Conv2D)            (None, 8, 8, 32)          18464     \n",
      "_________________________________________________________________\n",
      "dropout_4 (Dropout)          (None, 8, 8, 32)          0         \n",
      "_________________________________________________________________\n",
      "max_pooling2d_4 (MaxPooling2 (None, 4, 4, 32)          0         \n",
      "_________________________________________________________________\n",
      "conv2d_10 (Conv2D)           (None, 2, 2, 64)          18496     \n",
      "_________________________________________________________________\n",
      "flatten_2 (Flatten)          (None, 256)               0         \n",
      "_________________________________________________________________\n",
      "dense_3 (Dense)              (None, 64)                16448     \n",
      "_________________________________________________________________\n",
      "dense_4 (Dense)              (None, 10)                650       \n",
      "=================================================================\n",
      "Total params: 77,354\n",
      "Trainable params: 77,354\n",
      "Non-trainable params: 0\n",
      "_________________________________________________________________\n"
     ]
    }
   ],
   "source": [
    "model = Sequential()\n",
    "\n",
    "model.add(Conv2D(16, (3,3), activation='relu', input_shape=(28,28,1)))\n",
    "model.add(Conv2D(32, (3,3), activation='relu'))\n",
    "model.add(Dropout(0.25))\n",
    "model.add(MaxPooling2D(2,2))\n",
    "model.add(Conv2D(64, (3,3), activation='relu'))\n",
    "model.add(Conv2D(32, (3,3), activation='relu'))\n",
    "model.add(Dropout(0.25))\n",
    "model.add(MaxPooling2D(2,2))\n",
    "model.add(Conv2D(64, (3,3), activation='relu'))\n",
    "model.add(Flatten())\n",
    "model.add(Dense(64, activation='relu'))\n",
    "model.add(Dense(10, activation='softmax'))\n",
    "\n",
    "model.summary()"
   ]
  },
  {
   "cell_type": "code",
   "execution_count": 7,
   "metadata": {},
   "outputs": [],
   "source": [
    "model.compile(loss='categorical_crossentropy', optimizer='adam', metrics=['accuracy'])"
   ]
  },
  {
   "cell_type": "code",
   "execution_count": 8,
   "metadata": {
    "scrolled": true
   },
   "outputs": [
    {
     "name": "stdout",
     "output_type": "stream",
     "text": [
      "Train on 8000 samples, validate on 2000 samples\n",
      "Epoch 1/20\n",
      "8000/8000 [==============================] - 10s 1ms/step - loss: 1.0198 - acc: 0.6231 - val_loss: 0.7030 - val_acc: 0.7425\n",
      "Epoch 2/20\n",
      "8000/8000 [==============================] - 9s 1ms/step - loss: 0.6105 - acc: 0.7626 - val_loss: 0.6488 - val_acc: 0.7785\n",
      "Epoch 3/20\n",
      "8000/8000 [==============================] - 9s 1ms/step - loss: 0.5342 - acc: 0.7955 - val_loss: 0.5396 - val_acc: 0.8215\n",
      "Epoch 4/20\n",
      "8000/8000 [==============================] - 9s 1ms/step - loss: 0.4829 - acc: 0.8137 - val_loss: 0.5033 - val_acc: 0.8395\n",
      "Epoch 5/20\n",
      "8000/8000 [==============================] - 9s 1ms/step - loss: 0.4271 - acc: 0.8365 - val_loss: 0.4475 - val_acc: 0.8580\n",
      "Epoch 6/20\n",
      "8000/8000 [==============================] - 9s 1ms/step - loss: 0.3902 - acc: 0.8565 - val_loss: 0.4466 - val_acc: 0.8540\n",
      "Epoch 7/20\n",
      "8000/8000 [==============================] - 9s 1ms/step - loss: 0.3701 - acc: 0.8616 - val_loss: 0.4372 - val_acc: 0.8440\n",
      "Epoch 8/20\n",
      "8000/8000 [==============================] - 9s 1ms/step - loss: 0.3445 - acc: 0.8716 - val_loss: 0.4035 - val_acc: 0.8735\n",
      "Epoch 9/20\n",
      "8000/8000 [==============================] - 9s 1ms/step - loss: 0.3206 - acc: 0.8790 - val_loss: 0.3937 - val_acc: 0.8655\n",
      "Epoch 10/20\n",
      "8000/8000 [==============================] - 9s 1ms/step - loss: 0.3014 - acc: 0.8890 - val_loss: 0.3661 - val_acc: 0.8710\n",
      "Epoch 11/20\n",
      "8000/8000 [==============================] - 8s 1ms/step - loss: 0.2846 - acc: 0.8914 - val_loss: 0.3652 - val_acc: 0.8785\n",
      "Epoch 12/20\n",
      "8000/8000 [==============================] - 9s 1ms/step - loss: 0.2634 - acc: 0.8991 - val_loss: 0.3645 - val_acc: 0.8770\n",
      "Epoch 13/20\n",
      "8000/8000 [==============================] - 8s 1ms/step - loss: 0.2549 - acc: 0.9050 - val_loss: 0.3578 - val_acc: 0.8780\n",
      "Epoch 14/20\n",
      "8000/8000 [==============================] - 8s 1ms/step - loss: 0.2376 - acc: 0.9080 - val_loss: 0.3417 - val_acc: 0.8780\n",
      "Epoch 15/20\n",
      "8000/8000 [==============================] - 9s 1ms/step - loss: 0.2337 - acc: 0.9120 - val_loss: 0.3406 - val_acc: 0.8760\n",
      "Epoch 16/20\n",
      "8000/8000 [==============================] - 8s 1ms/step - loss: 0.2238 - acc: 0.9155 - val_loss: 0.3382 - val_acc: 0.8785\n",
      "Epoch 17/20\n",
      "8000/8000 [==============================] - 9s 1ms/step - loss: 0.2086 - acc: 0.9219 - val_loss: 0.3144 - val_acc: 0.8895\n",
      "Epoch 18/20\n",
      "8000/8000 [==============================] - 8s 1ms/step - loss: 0.1969 - acc: 0.9260 - val_loss: 0.3179 - val_acc: 0.8815\n",
      "Epoch 19/20\n",
      "8000/8000 [==============================] - 8s 1ms/step - loss: 0.1879 - acc: 0.9301 - val_loss: 0.3243 - val_acc: 0.8850\n",
      "Epoch 20/20\n",
      "8000/8000 [==============================] - 9s 1ms/step - loss: 0.1737 - acc: 0.9345 - val_loss: 0.3613 - val_acc: 0.8780\n"
     ]
    }
   ],
   "source": [
    "hist = model.fit(X,y, epochs=20, shuffle=True, batch_size=64, validation_split=0.20)"
   ]
  },
  {
   "cell_type": "code",
   "execution_count": 9,
   "metadata": {},
   "outputs": [
    {
     "data": {
      "image/png": "[encoded data removed]",
      "text/plain": [
       "<Figure size 432x288 with 1 Axes>"
      ]
     },
     "metadata": {
      "needs_background": "light"
     },
     "output_type": "display_data"
    }
   ],
   "source": [
    "plt.plot(hist.history['loss'], color='red')\n",
    "plt.plot(hist.history['val_loss'], color='blue')\n",
    "plt.plot(hist.history['acc'], color='black')\n",
    "plt.plot(hist.history['val_acc'], color='pink')\n",
    "plt.show()"
   ]
  },
  {
   "cell_type": "code",
   "execution_count": 10,
   "metadata": {},
   "outputs": [],
   "source": [
    "model.save('conv.h5')"
   ]
  },
  {
   "cell_type": "markdown",
   "metadata": {},
   "source": [
    "## Using saved models"
   ]
  },
  {
   "cell_type": "code",
   "execution_count": 11,
   "metadata": {},
   "outputs": [],
   "source": [
    "from keras.models import load_model"
   ]
  },
  {
   "cell_type": "code",
   "execution_count": 12,
   "metadata": {},
   "outputs": [],
   "source": [
    "loaded_model = load_model(\"./conv.h5\")"
   ]
  },
  {
   "cell_type": "code",
   "execution_count": 13,
   "metadata": {},
   "outputs": [
    {
     "name": "stdout",
     "output_type": "stream",
     "text": [
      "_________________________________________________________________\n",
      "Layer (type)                 Output Shape              Param #   \n",
      "=================================================================\n",
      "conv2d_6 (Conv2D)            (None, 26, 26, 16)        160       \n",
      "_________________________________________________________________\n",
      "conv2d_7 (Conv2D)            (None, 24, 24, 32)        4640      \n",
      "_________________________________________________________________\n",
      "dropout_3 (Dropout)          (None, 24, 24, 32)        0         \n",
      "_________________________________________________________________\n",
      "max_pooling2d_3 (MaxPooling2 (None, 12, 12, 32)        0         \n",
      "_________________________________________________________________\n",
      "conv2d_8 (Conv2D)            (None, 10, 10, 64)        18496     \n",
      "_________________________________________________________________\n",
      "conv2d_9 (Conv2D)            (None, 8, 8, 32)          18464     \n",
      "_________________________________________________________________\n",
      "dropout_4 (Dropout)          (None, 8, 8, 32)          0         \n",
      "_________________________________________________________________\n",
      "max_pooling2d_4 (MaxPooling2 (None, 4, 4, 32)          0         \n",
      "_________________________________________________________________\n",
      "conv2d_10 (Conv2D)           (None, 2, 2, 64)          18496     \n",
      "_________________________________________________________________\n",
      "flatten_2 (Flatten)          (None, 256)               0         \n",
      "_________________________________________________________________\n",
      "dense_3 (Dense)              (None, 64)                16448     \n",
      "_________________________________________________________________\n",
      "dense_4 (Dense)              (None, 10)                650       \n",
      "=================================================================\n",
      "Total params: 77,354\n",
      "Trainable params: 77,354\n",
      "Non-trainable params: 0\n",
      "_________________________________________________________________\n"
     ]
    }
   ],
   "source": [
    "loaded_model.summary()"
   ]
  },
  {
   "cell_type": "code",
   "execution_count": 15,
   "metadata": {},
   "outputs": [],
   "source": [
    "y = model.predict(X[:1000])"
   ]
  },
  {
   "cell_type": "code",
   "execution_count": 16,
   "metadata": {},
   "outputs": [
    {
     "name": "stdout",
     "output_type": "stream",
     "text": [
      "(1000, 10)\n"
     ]
    }
   ],
   "source": [
    "print (y.shape)"
   ]
  }
 ],
 "metadata": {
  "kernelspec": {
   "display_name": "Python 3",
   "language": "python",
   "name": "python3"
  },
  "language_info": {
   "codemirror_mode": {
    "name": "ipython",
    "version": 3
   },
   "file_extension": ".py",
   "mimetype": "text/x-python",
   "name": "python",
   "nbconvert_exporter": "python",
   "pygments_lexer": "ipython3",
   "version": "3.5.2"
  }
 },
 "nbformat": 4,
 "nbformat_minor": 2
}
