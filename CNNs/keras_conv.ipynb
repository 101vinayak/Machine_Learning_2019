{
 "cells": [
  {
   "cell_type": "code",
   "execution_count": 1,
   "metadata": {},
   "outputs": [
    {
     "name": "stderr",
     "output_type": "stream",
     "text": [
      "Using TensorFlow backend.\n"
     ]
    }
   ],
   "source": [
    "import numpy as np\n",
    "import pandas as pd\n",
    "import matplotlib.pyplot as plt\n",
    "from keras.models import Sequential\n",
    "from keras.layers import Dense, Conv2D, MaxPooling2D, Flatten, Dropout\n",
    "from keras.optimizers import Adam\n",
    "from keras.utils import np_utils"
   ]
  },
  {
   "cell_type": "code",
   "execution_count": 4,
   "metadata": {},
   "outputs": [
    {
     "name": "stdout",
     "output_type": "stream",
     "text": [
      "(10000, 785)\n"
     ]
    }
   ],
   "source": [
    "data = pd.read_csv(\"fashion-mnist_test.csv\")\n",
    "x = data.values\n",
    "\n",
    "print(x.shape)\n"
   ]
  },
  {
   "cell_type": "code",
   "execution_count": 5,
   "metadata": {},
   "outputs": [
    {
     "name": "stdout",
     "output_type": "stream",
     "text": [
      "(8000, 28, 28, 1) (8000, 10)\n"
     ]
    }
   ],
   "source": [
    "X = x[:8000,1:]\n",
    "y = x[:8000,0]\n",
    "X = X/255.0\n",
    "X = X.reshape((-1,28,28,1))\n",
    "y = np_utils.to_categorical(y)\n",
    "print (X.shape, y.shape)"
   ]
  },
  {
   "cell_type": "code",
   "execution_count": 6,
   "metadata": {},
   "outputs": [
    {
     "name": "stderr",
     "output_type": "stream",
     "text": [
      "WARNING: Logging before flag parsing goes to stderr.\n",
      "W0716 10:14:41.235950 140172531988224 deprecation_wrapper.py:119] From /home/vinayak/.local/lib/python3.5/site-packages/keras/backend/tensorflow_backend.py:74: The name tf.get_default_graph is deprecated. Please use tf.compat.v1.get_default_graph instead.\n",
      "\n",
      "W0716 10:14:41.497784 140172531988224 deprecation_wrapper.py:119] From /home/vinayak/.local/lib/python3.5/site-packages/keras/backend/tensorflow_backend.py:517: The name tf.placeholder is deprecated. Please use tf.compat.v1.placeholder instead.\n",
      "\n",
      "W0716 10:14:41.673593 140172531988224 deprecation_wrapper.py:119] From /home/vinayak/.local/lib/python3.5/site-packages/keras/backend/tensorflow_backend.py:4138: The name tf.random_uniform is deprecated. Please use tf.random.uniform instead.\n",
      "\n",
      "W0716 10:14:41.794340 140172531988224 deprecation_wrapper.py:119] From /home/vinayak/.local/lib/python3.5/site-packages/keras/backend/tensorflow_backend.py:133: The name tf.placeholder_with_default is deprecated. Please use tf.compat.v1.placeholder_with_default instead.\n",
      "\n",
      "W0716 10:14:41.804191 140172531988224 deprecation.py:506] From /home/vinayak/.local/lib/python3.5/site-packages/keras/backend/tensorflow_backend.py:3445: calling dropout (from tensorflow.python.ops.nn_ops) with keep_prob is deprecated and will be removed in a future version.\n",
      "Instructions for updating:\n",
      "Please use `rate` instead of `keep_prob`. Rate should be set to `rate = 1 - keep_prob`.\n",
      "W0716 10:14:41.818298 140172531988224 deprecation_wrapper.py:119] From /home/vinayak/.local/lib/python3.5/site-packages/keras/backend/tensorflow_backend.py:3976: The name tf.nn.max_pool is deprecated. Please use tf.nn.max_pool2d instead.\n",
      "\n"
     ]
    },
    {
     "name": "stdout",
     "output_type": "stream",
     "text": [
      "_________________________________________________________________\n",
      "Layer (type)                 Output Shape              Param #   \n",
      "=================================================================\n",
      "conv2d_1 (Conv2D)            (None, 26, 26, 16)        160       \n",
      "_________________________________________________________________\n",
      "conv2d_2 (Conv2D)            (None, 24, 24, 32)        4640      \n",
      "_________________________________________________________________\n",
      "dropout_1 (Dropout)          (None, 24, 24, 32)        0         \n",
      "_________________________________________________________________\n",
      "max_pooling2d_1 (MaxPooling2 (None, 12, 12, 32)        0         \n",
      "_________________________________________________________________\n",
      "conv2d_3 (Conv2D)            (None, 10, 10, 64)        18496     \n",
      "_________________________________________________________________\n",
      "conv2d_4 (Conv2D)            (None, 8, 8, 32)          18464     \n",
      "_________________________________________________________________\n",
      "dropout_2 (Dropout)          (None, 8, 8, 32)          0         \n",
      "_________________________________________________________________\n",
      "max_pooling2d_2 (MaxPooling2 (None, 4, 4, 32)          0         \n",
      "_________________________________________________________________\n",
      "conv2d_5 (Conv2D)            (None, 2, 2, 64)          18496     \n",
      "_________________________________________________________________\n",
      "flatten_1 (Flatten)          (None, 256)               0         \n",
      "_________________________________________________________________\n",
      "dense_1 (Dense)              (None, 64)                16448     \n",
      "_________________________________________________________________\n",
      "dense_2 (Dense)              (None, 10)                650       \n",
      "=================================================================\n",
      "Total params: 77,354\n",
      "Trainable params: 77,354\n",
      "Non-trainable params: 0\n",
      "_________________________________________________________________\n"
     ]
    }
   ],
   "source": [
    "model = Sequential()\n",
    "\n",
    "model.add(Conv2D(16, (3,3), activation='relu', input_shape=(28,28,1)))\n",
    "model.add(Conv2D(32, (3,3), activation='relu'))\n",
    "model.add(Dropout(0.25))\n",
    "model.add(MaxPooling2D(2,2))\n",
    "model.add(Conv2D(64, (3,3), activation='relu'))\n",
    "model.add(Conv2D(32, (3,3), activation='relu'))\n",
    "model.add(Dropout(0.25))\n",
    "model.add(MaxPooling2D(2,2))\n",
    "model.add(Conv2D(64, (3,3), activation='relu'))\n",
    "model.add(Flatten())\n",
    "model.add(Dense(64, activation='relu'))\n",
    "model.add(Dense(10, activation='softmax'))\n",
    "\n",
    "model.summary()"
   ]
  },
  {
   "cell_type": "code",
   "execution_count": 7,
   "metadata": {},
   "outputs": [
    {
     "name": "stderr",
     "output_type": "stream",
     "text": [
      "W0716 10:14:48.247169 140172531988224 deprecation_wrapper.py:119] From /home/vinayak/.local/lib/python3.5/site-packages/keras/optimizers.py:790: The name tf.train.Optimizer is deprecated. Please use tf.compat.v1.train.Optimizer instead.\n",
      "\n",
      "W0716 10:14:48.275823 140172531988224 deprecation_wrapper.py:119] From /home/vinayak/.local/lib/python3.5/site-packages/keras/backend/tensorflow_backend.py:3295: The name tf.log is deprecated. Please use tf.math.log instead.\n",
      "\n"
     ]
    }
   ],
   "source": [
    "model.compile(loss='categorical_crossentropy', optimizer='adam', metrics=['accuracy'])"
   ]
  },
  {
   "cell_type": "code",
   "execution_count": 8,
   "metadata": {
    "scrolled": true
   },
   "outputs": [
    {
     "name": "stderr",
     "output_type": "stream",
     "text": [
      "W0716 10:14:51.063487 140172531988224 deprecation.py:323] From /home/vinayak/.local/lib/python3.5/site-packages/tensorflow/python/ops/math_grad.py:1250: add_dispatch_support.<locals>.wrapper (from tensorflow.python.ops.array_ops) is deprecated and will be removed in a future version.\n",
      "Instructions for updating:\n",
      "Use tf.where in 2.0, which has the same broadcast rule as np.where\n"
     ]
    },
    {
     "name": "stdout",
     "output_type": "stream",
     "text": [
      "Train on 6400 samples, validate on 1600 samples\n",
      "Epoch 1/20\n",
      "6400/6400 [==============================] - 6s 906us/step - loss: 1.1513 - acc: 0.5711 - val_loss: 0.8584 - val_acc: 0.7200\n",
      "Epoch 2/20\n",
      "6400/6400 [==============================] - 5s 753us/step - loss: 0.6655 - acc: 0.7438 - val_loss: 0.6654 - val_acc: 0.7775\n",
      "Epoch 3/20\n",
      "6400/6400 [==============================] - 5s 853us/step - loss: 0.5555 - acc: 0.7892 - val_loss: 0.5974 - val_acc: 0.7963\n",
      "Epoch 4/20\n",
      "6400/6400 [==============================] - 6s 901us/step - loss: 0.5083 - acc: 0.8030 - val_loss: 0.5665 - val_acc: 0.8075\n",
      "Epoch 5/20\n",
      "6400/6400 [==============================] - 6s 921us/step - loss: 0.4564 - acc: 0.8302 - val_loss: 0.5494 - val_acc: 0.8256\n",
      "Epoch 6/20\n",
      "6400/6400 [==============================] - 6s 929us/step - loss: 0.4192 - acc: 0.8438 - val_loss: 0.4981 - val_acc: 0.8300\n",
      "Epoch 7/20\n",
      "6400/6400 [==============================] - 6s 917us/step - loss: 0.3945 - acc: 0.8536 - val_loss: 0.4751 - val_acc: 0.8444\n",
      "Epoch 8/20\n",
      "6400/6400 [==============================] - 6s 953us/step - loss: 0.3619 - acc: 0.8672 - val_loss: 0.4754 - val_acc: 0.8256\n",
      "Epoch 9/20\n",
      "6400/6400 [==============================] - 6s 921us/step - loss: 0.3448 - acc: 0.8752 - val_loss: 0.4139 - val_acc: 0.8544\n",
      "Epoch 10/20\n",
      "6400/6400 [==============================] - 6s 979us/step - loss: 0.3225 - acc: 0.8819 - val_loss: 0.4475 - val_acc: 0.8413\n",
      "Epoch 11/20\n",
      "6400/6400 [==============================] - 6s 926us/step - loss: 0.3122 - acc: 0.8844 - val_loss: 0.3845 - val_acc: 0.8631\n",
      "Epoch 12/20\n",
      "6400/6400 [==============================] - 6s 932us/step - loss: 0.2942 - acc: 0.8905 - val_loss: 0.3742 - val_acc: 0.8612\n",
      "Epoch 13/20\n",
      "6400/6400 [==============================] - 6s 887us/step - loss: 0.2821 - acc: 0.8956 - val_loss: 0.3838 - val_acc: 0.8662\n",
      "Epoch 14/20\n",
      "6400/6400 [==============================] - 6s 908us/step - loss: 0.2639 - acc: 0.8984 - val_loss: 0.3819 - val_acc: 0.8588\n",
      "Epoch 15/20\n",
      "6400/6400 [==============================] - 6s 911us/step - loss: 0.2495 - acc: 0.9078 - val_loss: 0.3634 - val_acc: 0.8675\n",
      "Epoch 16/20\n",
      "6400/6400 [==============================] - 6s 981us/step - loss: 0.2574 - acc: 0.9016 - val_loss: 0.3875 - val_acc: 0.8631\n",
      "Epoch 17/20\n",
      "6400/6400 [==============================] - 6s 952us/step - loss: 0.2357 - acc: 0.9150 - val_loss: 0.3605 - val_acc: 0.8694\n",
      "Epoch 18/20\n",
      "6400/6400 [==============================] - 6s 927us/step - loss: 0.2248 - acc: 0.9133 - val_loss: 0.3484 - val_acc: 0.8650\n",
      "Epoch 19/20\n",
      "6400/6400 [==============================] - 6s 958us/step - loss: 0.2095 - acc: 0.9231 - val_loss: 0.3591 - val_acc: 0.8688\n",
      "Epoch 20/20\n",
      "6400/6400 [==============================] - 6s 928us/step - loss: 0.2026 - acc: 0.9264 - val_loss: 0.3569 - val_acc: 0.8688\n"
     ]
    }
   ],
   "source": [
    "hist = model.fit(X,y, epochs=20, shuffle=True, batch_size=64, validation_split=0.20)"
   ]
  },
  {
   "cell_type": "code",
   "execution_count": 9,
   "metadata": {},
   "outputs": [
    {
     "data": {
      "image/png": "[encoded data removed]",
      "text/plain": [
       "<Figure size 432x288 with 1 Axes>"
      ]
     },
     "metadata": {
      "needs_background": "light"
     },
     "output_type": "display_data"
    }
   ],
   "source": [
    "plt.plot(hist.history['loss'], color='red')\n",
    "plt.plot(hist.history['val_loss'], color='blue')\n",
    "plt.plot(hist.history['acc'], color='black')\n",
    "plt.plot(hist.history['val_acc'], color='pink')\n",
    "plt.show()"
   ]
  },
  {
   "cell_type": "code",
   "execution_count": 12,
   "metadata": {},
   "outputs": [],
   "source": [
    "model.save('conv.h5')"
   ]
  },
  {
   "cell_type": "markdown",
   "metadata": {},
   "source": [
    "## Using saved models"
   ]
  },
  {
   "cell_type": "code",
   "execution_count": 13,
   "metadata": {},
   "outputs": [],
   "source": [
    "from keras.models import load_model"
   ]
  },
  {
   "cell_type": "code",
   "execution_count": 14,
   "metadata": {},
   "outputs": [],
   "source": [
    "loaded_model = load_model(\"./conv.h5\")"
   ]
  },
  {
   "cell_type": "code",
   "execution_count": 15,
   "metadata": {},
   "outputs": [
    {
     "name": "stdout",
     "output_type": "stream",
     "text": [
      "_________________________________________________________________\n",
      "Layer (type)                 Output Shape              Param #   \n",
      "=================================================================\n",
      "conv2d_1 (Conv2D)            (None, 26, 26, 16)        160       \n",
      "_________________________________________________________________\n",
      "conv2d_2 (Conv2D)            (None, 24, 24, 32)        4640      \n",
      "_________________________________________________________________\n",
      "dropout_1 (Dropout)          (None, 24, 24, 32)        0         \n",
      "_________________________________________________________________\n",
      "max_pooling2d_1 (MaxPooling2 (None, 12, 12, 32)        0         \n",
      "_________________________________________________________________\n",
      "conv2d_3 (Conv2D)            (None, 10, 10, 64)        18496     \n",
      "_________________________________________________________________\n",
      "conv2d_4 (Conv2D)            (None, 8, 8, 32)          18464     \n",
      "_________________________________________________________________\n",
      "dropout_2 (Dropout)          (None, 8, 8, 32)          0         \n",
      "_________________________________________________________________\n",
      "max_pooling2d_2 (MaxPooling2 (None, 4, 4, 32)          0         \n",
      "_________________________________________________________________\n",
      "conv2d_5 (Conv2D)            (None, 2, 2, 64)          18496     \n",
      "_________________________________________________________________\n",
      "flatten_1 (Flatten)          (None, 256)               0         \n",
      "_________________________________________________________________\n",
      "dense_1 (Dense)              (None, 64)                16448     \n",
      "_________________________________________________________________\n",
      "dense_2 (Dense)              (None, 10)                650       \n",
      "=================================================================\n",
      "Total params: 77,354\n",
      "Trainable params: 77,354\n",
      "Non-trainable params: 0\n",
      "_________________________________________________________________\n"
     ]
    }
   ],
   "source": [
    "loaded_model.summary()"
   ]
  },
  {
   "cell_type": "code",
   "execution_count": 16,
   "metadata": {},
   "outputs": [],
   "source": [
    "y = model.predict(X[:1000])"
   ]
  },
  {
   "cell_type": "code",
   "execution_count": 17,
   "metadata": {
    "scrolled": true
   },
   "outputs": [
    {
     "name": "stdout",
     "output_type": "stream",
     "text": [
      "(1000, 10)\n"
     ]
    }
   ],
   "source": [
    "print (y.shape)"
   ]
  }
 ],
 "metadata": {
  "kernelspec": {
   "display_name": "Python 3",
   "language": "python",
   "name": "python3"
  },
  "language_info": {
   "codemirror_mode": {
    "name": "ipython",
    "version": 3
   },
   "file_extension": ".py",
   "mimetype": "text/x-python",
   "name": "python",
   "nbconvert_exporter": "python",
   "pygments_lexer": "ipython3",
   "version": "3.5.2"
  }
 },
 "nbformat": 4,
 "nbformat_minor": 2
}
