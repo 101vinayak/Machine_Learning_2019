{
 "cells": [
  {
   "cell_type": "code",
   "execution_count": 1,
   "metadata": {},
   "outputs": [
    {
     "name": "stderr",
     "output_type": "stream",
     "text": [
      "Using TensorFlow backend.\n"
     ]
    }
   ],
   "source": [
    "import numpy as np\n",
    "import pandas as pd\n",
    "import matplotlib.pyplot as plt\n",
    "from keras.models import Sequential\n",
    "from keras.layers import Dense, Conv2D, MaxPooling2D, Flatten, Dropout\n",
    "from keras.optimizers import Adam\n",
    "from keras.utils import np_utils"
   ]
  },
  {
   "cell_type": "code",
   "execution_count": 2,
   "metadata": {},
   "outputs": [
    {
     "name": "stdout",
     "output_type": "stream",
     "text": [
      "(42000, 28, 28, 1) (42000, 10)\n"
     ]
    }
   ],
   "source": [
    "## preparing data\n",
    "\n",
    "train_data = (pd.read_csv('train.csv')).values\n",
    "\n",
    "X_train = train_data[:,1:]\n",
    "y_train = train_data[:,0]\n",
    "\n",
    "X_train = X_train/255.0\n",
    "X_train = X_train.reshape((-1,28,28,1))\n",
    "\n",
    "y_train = np_utils.to_categorical(y_train)\n",
    "\n",
    "print(X_train.shape,y_train.shape)"
   ]
  },
  {
   "cell_type": "code",
   "execution_count": 3,
   "metadata": {},
   "outputs": [
    {
     "name": "stderr",
     "output_type": "stream",
     "text": [
      "WARNING: Logging before flag parsing goes to stderr.\n",
      "W0719 11:26:46.685135 140622045103872 deprecation_wrapper.py:119] From /home/vinayak/.local/lib/python3.5/site-packages/keras/backend/tensorflow_backend.py:74: The name tf.get_default_graph is deprecated. Please use tf.compat.v1.get_default_graph instead.\n",
      "\n",
      "W0719 11:26:46.705765 140622045103872 deprecation_wrapper.py:119] From /home/vinayak/.local/lib/python3.5/site-packages/keras/backend/tensorflow_backend.py:517: The name tf.placeholder is deprecated. Please use tf.compat.v1.placeholder instead.\n",
      "\n",
      "W0719 11:26:46.709407 140622045103872 deprecation_wrapper.py:119] From /home/vinayak/.local/lib/python3.5/site-packages/keras/backend/tensorflow_backend.py:4138: The name tf.random_uniform is deprecated. Please use tf.random.uniform instead.\n",
      "\n",
      "W0719 11:26:46.733815 140622045103872 deprecation_wrapper.py:119] From /home/vinayak/.local/lib/python3.5/site-packages/keras/backend/tensorflow_backend.py:3976: The name tf.nn.max_pool is deprecated. Please use tf.nn.max_pool2d instead.\n",
      "\n"
     ]
    },
    {
     "name": "stdout",
     "output_type": "stream",
     "text": [
      "_________________________________________________________________\n",
      "Layer (type)                 Output Shape              Param #   \n",
      "=================================================================\n",
      "conv2d_1 (Conv2D)            (None, 26, 26, 32)        320       \n",
      "_________________________________________________________________\n",
      "max_pooling2d_1 (MaxPooling2 (None, 13, 13, 32)        0         \n",
      "_________________________________________________________________\n",
      "conv2d_2 (Conv2D)            (None, 11, 11, 64)        18496     \n",
      "_________________________________________________________________\n",
      "max_pooling2d_2 (MaxPooling2 (None, 5, 5, 64)          0         \n",
      "_________________________________________________________________\n",
      "conv2d_3 (Conv2D)            (None, 3, 3, 64)          36928     \n",
      "_________________________________________________________________\n",
      "flatten_1 (Flatten)          (None, 576)               0         \n",
      "_________________________________________________________________\n",
      "dense_1 (Dense)              (None, 64)                36928     \n",
      "_________________________________________________________________\n",
      "dense_2 (Dense)              (None, 10)                650       \n",
      "=================================================================\n",
      "Total params: 93,322\n",
      "Trainable params: 93,322\n",
      "Non-trainable params: 0\n",
      "_________________________________________________________________\n"
     ]
    }
   ],
   "source": [
    "model = Sequential()\n",
    "\n",
    "model.add(Conv2D(32,(3,3),activation='relu',input_shape=(28,28,1)))       ## generally kernel size is 3,3\n",
    "model.add(MaxPooling2D((2,2)))                        ## shrinks hight and width keeping no. of channels same\n",
    "model.add(Conv2D(64,(3,3),activation='relu'))\n",
    "model.add(MaxPooling2D((2,2)))\n",
    "model.add(Conv2D(64,(3,3),activation='relu'))\n",
    "model.add(Flatten())           ## from here it will go to MLP\n",
    "\n",
    "model.add(Dense(64,activation='relu'))\n",
    "model.add(Dense(10,activation='softmax'))\n",
    "\n",
    "model.summary()"
   ]
  },
  {
   "cell_type": "code",
   "execution_count": 4,
   "metadata": {},
   "outputs": [
    {
     "name": "stderr",
     "output_type": "stream",
     "text": [
      "W0719 11:26:46.894119 140622045103872 deprecation_wrapper.py:119] From /home/vinayak/.local/lib/python3.5/site-packages/keras/optimizers.py:790: The name tf.train.Optimizer is deprecated. Please use tf.compat.v1.train.Optimizer instead.\n",
      "\n",
      "W0719 11:26:46.933704 140622045103872 deprecation_wrapper.py:119] From /home/vinayak/.local/lib/python3.5/site-packages/keras/backend/tensorflow_backend.py:3295: The name tf.log is deprecated. Please use tf.math.log instead.\n",
      "\n"
     ]
    }
   ],
   "source": [
    "model.compile(optimizer='adam', loss='categorical_crossentropy', metrics=['accuracy'])"
   ]
  },
  {
   "cell_type": "code",
   "execution_count": 5,
   "metadata": {},
   "outputs": [
    {
     "name": "stderr",
     "output_type": "stream",
     "text": [
      "W0719 11:26:47.115745 140622045103872 deprecation.py:323] From /home/vinayak/.local/lib/python3.5/site-packages/tensorflow/python/ops/math_grad.py:1250: add_dispatch_support.<locals>.wrapper (from tensorflow.python.ops.array_ops) is deprecated and will be removed in a future version.\n",
      "Instructions for updating:\n",
      "Use tf.where in 2.0, which has the same broadcast rule as np.where\n",
      "W0719 11:26:47.232836 140622045103872 deprecation_wrapper.py:119] From /home/vinayak/.local/lib/python3.5/site-packages/keras/backend/tensorflow_backend.py:986: The name tf.assign_add is deprecated. Please use tf.compat.v1.assign_add instead.\n",
      "\n"
     ]
    },
    {
     "name": "stdout",
     "output_type": "stream",
     "text": [
      "Train on 33600 samples, validate on 8400 samples\n",
      "Epoch 1/10\n",
      "33600/33600 [==============================] - 15s 443us/step - loss: 0.2654 - acc: 0.9198 - val_loss: 0.0770 - val_acc: 0.9746\n",
      "Epoch 2/10\n",
      "33600/33600 [==============================] - 14s 412us/step - loss: 0.0706 - acc: 0.9781 - val_loss: 0.0570 - val_acc: 0.9818\n",
      "Epoch 3/10\n",
      "33600/33600 [==============================] - 14s 408us/step - loss: 0.0487 - acc: 0.9851 - val_loss: 0.0429 - val_acc: 0.9869\n",
      "Epoch 4/10\n",
      "33600/33600 [==============================] - 14s 417us/step - loss: 0.0365 - acc: 0.9883 - val_loss: 0.0551 - val_acc: 0.9820\n",
      "Epoch 5/10\n",
      "33600/33600 [==============================] - 15s 433us/step - loss: 0.0323 - acc: 0.9894 - val_loss: 0.0456 - val_acc: 0.9851\n",
      "Epoch 6/10\n",
      "33600/33600 [==============================] - 15s 439us/step - loss: 0.0254 - acc: 0.9917 - val_loss: 0.0478 - val_acc: 0.9852\n",
      "Epoch 7/10\n",
      "33600/33600 [==============================] - 14s 427us/step - loss: 0.0194 - acc: 0.9940 - val_loss: 0.0433 - val_acc: 0.9881\n",
      "Epoch 8/10\n",
      "33600/33600 [==============================] - 14s 429us/step - loss: 0.0169 - acc: 0.9947 - val_loss: 0.0504 - val_acc: 0.9869\n",
      "Epoch 9/10\n",
      "33600/33600 [==============================] - 15s 437us/step - loss: 0.0132 - acc: 0.9956 - val_loss: 0.0829 - val_acc: 0.9798\n",
      "Epoch 10/10\n",
      "33600/33600 [==============================] - 15s 446us/step - loss: 0.0121 - acc: 0.9962 - val_loss: 0.0565 - val_acc: 0.9851\n"
     ]
    }
   ],
   "source": [
    "hist = model.fit(X_train,y_train,batch_size=70,epochs=10,validation_split=0.2,shuffle=True)"
   ]
  },
  {
   "cell_type": "code",
   "execution_count": 7,
   "metadata": {},
   "outputs": [
    {
     "data": {
      "image/png": "[encoded data removed]",
      "text/plain": [
       "<Figure size 432x288 with 1 Axes>"
      ]
     },
     "metadata": {
      "needs_background": "light"
     },
     "output_type": "display_data"
    }
   ],
   "source": [
    "plt.plot(hist.history['loss'], color='red')\n",
    "plt.plot(hist.history['val_loss'], color='blue')\n",
    "plt.plot(hist.history['acc'], color='black')\n",
    "plt.plot(hist.history['val_acc'], color='pink')\n",
    "plt.show()"
   ]
  },
  {
   "cell_type": "code",
   "execution_count": null,
   "metadata": {},
   "outputs": [],
   "source": []
  },
  {
   "cell_type": "code",
   "execution_count": null,
   "metadata": {},
   "outputs": [],
   "source": []
  },
  {
   "cell_type": "code",
   "execution_count": null,
   "metadata": {},
   "outputs": [],
   "source": []
  },
  {
   "cell_type": "code",
   "execution_count": null,
   "metadata": {},
   "outputs": [],
   "source": []
  },
  {
   "cell_type": "code",
   "execution_count": null,
   "metadata": {},
   "outputs": [],
   "source": []
  },
  {
   "cell_type": "code",
   "execution_count": null,
   "metadata": {},
   "outputs": [],
   "source": []
  }
 ],
 "metadata": {
  "kernelspec": {
   "display_name": "Python 3",
   "language": "python",
   "name": "python3"
  }
 },
 "nbformat": 4,
 "nbformat_minor": 2
}
