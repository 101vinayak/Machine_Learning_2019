{
 "cells": [
  {
   "cell_type": "code",
   "execution_count": 2,
   "metadata": {},
   "outputs": [],
   "source": [
    "import numpy as np\n",
    "import matplotlib.pyplot as plt\n",
    "import pandas as pd"
   ]
  },
  {
   "cell_type": "code",
   "execution_count": 3,
   "metadata": {},
   "outputs": [
    {
     "name": "stdout",
     "output_type": "stream",
     "text": [
      "(10000, 784) (10000,)\n"
     ]
    }
   ],
   "source": [
    "data = pd.read_csv('./fashion-mnist_test.csv')\n",
    "x = data.values\n",
    "X = x[:,1:]\n",
    "y = x[:,0]\n",
    "\n",
    "X = X/255      ## Normalizing the data\n",
    "\n",
    "print(X.shape,y.shape)"
   ]
  },
  {
   "cell_type": "code",
   "execution_count": 4,
   "metadata": {},
   "outputs": [
    {
     "name": "stdout",
     "output_type": "stream",
     "text": [
      "(8000, 784) (8000,)\n",
      "(2000, 784) (2000,)\n"
     ]
    }
   ],
   "source": [
    "## splitting the training and testing data\n",
    "\n",
    "X_train = X[:8000,:]\n",
    "y_train = y[:8000]\n",
    "\n",
    "X_test = X[8000:,:]\n",
    "y_test = y[8000:]\n",
    "\n",
    "print(X_train.shape,y_train.shape)\n",
    "print(X_test.shape,y_test.shape)"
   ]
  },
  {
   "cell_type": "code",
   "execution_count": 5,
   "metadata": {},
   "outputs": [
    {
     "name": "stdout",
     "output_type": "stream",
     "text": [
      "[0 1 2 3 4 5 6 7 8 9]\n"
     ]
    }
   ],
   "source": [
    "classes = np.unique(y)\n",
    "print(classes)"
   ]
  },
  {
   "cell_type": "code",
   "execution_count": 6,
   "metadata": {},
   "outputs": [],
   "source": [
    "Input_layer = 784                    ## clearly there are 784 features for each example\n",
    "H1_size = 256                        ## 1st hidden layer\n",
    "H2_size = 64                         ## 2nd hidden layer\n",
    "Out = 10                             ## there are 10 unique classes to be predicted\n",
    "\n",
    "Batch_size = 200                     ## contains this many at once from the data\n",
    "Epoch = 10                           ## for every data the is trained this many times\n",
    "LR = 0.004                           ## learning rate"
   ]
  },
  {
   "cell_type": "code",
   "execution_count": 7,
   "metadata": {},
   "outputs": [],
   "source": [
    "## initialising the weights and biases randomly\n",
    "\n",
    "def __init__():\n",
    "    \n",
    "    np.random.seed(0)\n",
    "    model = {}\n",
    "    \n",
    "    model[\"w1\"] = np.random.randn(Input_layer,H1_size)/np.sqrt(Input_layer)  ## thumb rule to divide by sqrt of col size\n",
    "    model[\"b1\"] = np.zeros((1,H1_size))\n",
    "    model[\"w2\"] = np.random.randn(H1_size,H2_size)/np.sqrt(H1_size)\n",
    "    model[\"b2\"] = np.zeros((1,H2_size)) \n",
    "    model[\"w3\"] = np.random.randn(H2_size,Out)/np.sqrt(H2_size)\n",
    "    model[\"b3\"] = np.zeros((1,Out))    \n",
    "    \n",
    "    return model"
   ]
  },
  {
   "cell_type": "code",
   "execution_count": 8,
   "metadata": {},
   "outputs": [],
   "source": [
    "def forward_prop(model,X):\n",
    "    \n",
    "    z1 = X.dot(model[\"w1\"] + model[\"b1\"])\n",
    "    a1 = np.tanh(z1)\n",
    "    z2 = X.dot(model[\"w2\"] + model[\"b2\"])\n",
    "    a2 = np.tanh(z2)\n",
    "    z3 = X.dot(model[\"w3\"] + model[\"b3\"])\n",
    "    \n",
    "    ## taking softmax of the z3\n",
    "    h_x = np.exp(z3)\n",
    "    y_out = h_x/ np.sum(h_x, axis=1, keepdims=True)  ## summing vals along the column\n",
    "    \n",
    "    return a1,a2,y_out"
   ]
  },
  {
   "cell_type": "code",
   "execution_count": null,
   "metadata": {},
   "outputs": [],
   "source": [
    "def back_prop(model, x, a1, a2, y_out, y_act):     ## in one-hot encoding already\n",
    "    \n",
    "    delta3 = y_out\n",
    "    delta3[range(y_act.shape[0]), y_act] -= 1      \n",
    "    dw3 = (a2.T).dot(delta3)\n",
    "    db3 = np.sum(delta3, axis=0)\n",
    "    delta2 = (1-np.square(a2))*delta3.dot(model[\"W3\"].T)\n",
    "    dw2 = (a1.T).dot(delta2)\n",
    "    db2 = np.sum(delta2, axis=0)\n",
    "    delta1 = (1-np.square(a1))*delta2.dot(model[\"W2\"].T)\n",
    "    dw1 = (x.T).dot(delta1)\n",
    "    db1 = np.sum(delta1, axis=0)\n",
    "    \n",
    "    model[\"W3\"] -= LR*dw3\n",
    "    model[\"B3\"] -= LR*db3\n",
    "    model[\"W2\"] -= LR*dw2\n",
    "    model[\"B2\"] -= LR*db2\n",
    "    model[\"W1\"] -= LR*dw1\n",
    "    model[\"B1\"] -= LR*db1\n",
    "    \n",
    "    return model"
   ]
  },
  {
   "cell_type": "code",
   "execution_count": null,
   "metadata": {},
   "outputs": [],
   "source": []
  }
 ],
 "metadata": {
  "kernelspec": {
   "display_name": "Python 3",
   "language": "python",
   "name": "python3"
  },
  "language_info": {
   "codemirror_mode": {
    "name": "ipython",
    "version": 3
   },
   "file_extension": ".py",
   "mimetype": "text/x-python",
   "name": "python",
   "nbconvert_exporter": "python",
   "pygments_lexer": "ipython3",
   "version": "3.5.2"
  }
 },
 "nbformat": 4,
 "nbformat_minor": 2
}
