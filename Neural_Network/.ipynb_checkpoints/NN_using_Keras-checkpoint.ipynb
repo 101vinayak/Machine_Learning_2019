{
 "cells": [
  {
   "cell_type": "code",
   "execution_count": 31,
   "metadata": {},
   "outputs": [],
   "source": [
    "import numpy as np\n",
    "import pandas as pd\n",
    "import matplotlib.pyplot as plt\n",
    "from keras.models import Model,Sequential\n",
    "from keras.layers import Dense, Input\n",
    "from keras.optimizers import Adam\n",
    "from keras.utils import np_utils"
   ]
  },
  {
   "cell_type": "code",
   "execution_count": 32,
   "metadata": {},
   "outputs": [
    {
     "name": "stdout",
     "output_type": "stream",
     "text": [
      "(10000, 784) (10000, 10)\n"
     ]
    }
   ],
   "source": [
    "data = pd.read_csv(\"fashion-mnist_test.csv\")\n",
    "x = data.values\n",
    "X = x[:,1:]\n",
    "y = x[:,0]\n",
    "X = X/255.0\n",
    "\n",
    "y = np_utils.to_categorical(y)    ## one hot encoding\n",
    "print (X.shape, y.shape)"
   ]
  },
  {
   "cell_type": "code",
   "execution_count": 33,
   "metadata": {},
   "outputs": [
    {
     "name": "stdout",
     "output_type": "stream",
     "text": [
      "(8000, 784) (8000, 10)\n",
      "(2000, 784) (2000, 10)\n"
     ]
    }
   ],
   "source": [
    "X_train = X[:8000,:]\n",
    "y_train = y[:8000,:]\n",
    "\n",
    "X_val = X[8000:,:]\n",
    "y_val = y[8000:,:]\n",
    "\n",
    "print(X_train.shape, y_train.shape)\n",
    "print(X_val.shape, y_val.shape)"
   ]
  },
  {
   "cell_type": "markdown",
   "metadata": {},
   "source": [
    "## Sequential Model"
   ]
  },
  {
   "cell_type": "code",
   "execution_count": 34,
   "metadata": {},
   "outputs": [
    {
     "name": "stdout",
     "output_type": "stream",
     "text": [
      "_________________________________________________________________\n",
      "Layer (type)                 Output Shape              Param #   \n",
      "=================================================================\n",
      "dense_10 (Dense)             (None, 256)               200960    \n",
      "_________________________________________________________________\n",
      "dense_11 (Dense)             (None, 64)                16448     \n",
      "_________________________________________________________________\n",
      "dense_12 (Dense)             (None, 10)                650       \n",
      "=================================================================\n",
      "Total params: 218,058\n",
      "Trainable params: 218,058\n",
      "Non-trainable params: 0\n",
      "_________________________________________________________________\n"
     ]
    }
   ],
   "source": [
    "model = Sequential()\n",
    "\n",
    "model.add(Dense(256, activation='relu', input_shape=(784,)))\n",
    "model.add(Dense(64, activation='relu'))\n",
    "model.add(Dense(10, activation='softmax'))\n",
    "\n",
    "model.summary()"
   ]
  },
  {
   "cell_type": "code",
   "execution_count": 35,
   "metadata": {},
   "outputs": [],
   "source": [
    "adam = Adam(decay=0.0001)"
   ]
  },
  {
   "cell_type": "code",
   "execution_count": 36,
   "metadata": {},
   "outputs": [],
   "source": [
    "model.compile(loss='categorical_crossentropy', optimizer=adam, metrics=['accuracy'])"
   ]
  },
  {
   "cell_type": "code",
   "execution_count": 37,
   "metadata": {
    "scrolled": true
   },
   "outputs": [
    {
     "name": "stdout",
     "output_type": "stream",
     "text": [
      "Train on 8000 samples, validate on 2000 samples\n",
      "Epoch 1/10\n",
      "8000/8000 [==============================] - 1s 85us/step - loss: 0.9927 - acc: 0.6694 - val_loss: 0.6344 - val_acc: 0.7870\n",
      "Epoch 2/10\n",
      "8000/8000 [==============================] - 0s 38us/step - loss: 0.5917 - acc: 0.8010 - val_loss: 0.5232 - val_acc: 0.8230\n",
      "Epoch 3/10\n",
      "8000/8000 [==============================] - 0s 43us/step - loss: 0.5046 - acc: 0.8276 - val_loss: 0.4855 - val_acc: 0.8235\n",
      "Epoch 4/10\n",
      "8000/8000 [==============================] - 0s 45us/step - loss: 0.4663 - acc: 0.8369 - val_loss: 0.4626 - val_acc: 0.8405\n",
      "Epoch 5/10\n",
      "8000/8000 [==============================] - 0s 46us/step - loss: 0.4214 - acc: 0.8516 - val_loss: 0.4296 - val_acc: 0.8495\n",
      "Epoch 6/10\n",
      "8000/8000 [==============================] - 0s 43us/step - loss: 0.3976 - acc: 0.8616 - val_loss: 0.4243 - val_acc: 0.8555\n",
      "Epoch 7/10\n",
      "8000/8000 [==============================] - 0s 43us/step - loss: 0.3806 - acc: 0.8644 - val_loss: 0.4245 - val_acc: 0.8520\n",
      "Epoch 8/10\n",
      "8000/8000 [==============================] - 0s 42us/step - loss: 0.3652 - acc: 0.8716 - val_loss: 0.4052 - val_acc: 0.8570\n",
      "Epoch 9/10\n",
      "8000/8000 [==============================] - 0s 42us/step - loss: 0.3378 - acc: 0.8797 - val_loss: 0.3950 - val_acc: 0.8615\n",
      "Epoch 10/10\n",
      "8000/8000 [==============================] - 0s 40us/step - loss: 0.3191 - acc: 0.8851 - val_loss: 0.3989 - val_acc: 0.8635\n"
     ]
    }
   ],
   "source": [
    "history = model.fit(X_train, y_train, epochs=10, \n",
    "                    batch_size=200, shuffle=True, \n",
    "                    validation_data=(X_val,y_val))"
   ]
  },
  {
   "cell_type": "code",
   "execution_count": 38,
   "metadata": {},
   "outputs": [
    {
     "data": {
      "image/png": "[encoded data removed]",
      "text/plain": [
       "<Figure size 432x288 with 1 Axes>"
      ]
     },
     "metadata": {
      "needs_background": "light"
     },
     "output_type": "display_data"
    }
   ],
   "source": [
    "# SGD\n",
    "\n",
    "plt.plot(history.history['loss'], color='red')\n",
    "plt.plot(history.history['val_loss'], color='blue')\n",
    "plt.plot(history.history['acc'], color='black')\n",
    "plt.plot(history.history['val_acc'], color='pink')\n",
    "plt.show()"
   ]
  },
  {
   "cell_type": "code",
   "execution_count": 39,
   "metadata": {},
   "outputs": [
    {
     "data": {
      "image/png": "[encoded data removed]",
      "text/plain": [
       "<Figure size 432x288 with 1 Axes>"
      ]
     },
     "metadata": {
      "needs_background": "light"
     },
     "output_type": "display_data"
    }
   ],
   "source": [
    "# Adam without decay\n",
    "\n",
    "plt.plot(history.history['loss'], color='red')\n",
    "plt.plot(history.history['val_loss'], color='blue')\n",
    "plt.plot(history.history['acc'], color='black')\n",
    "plt.plot(history.history['val_acc'], color='pink')\n",
    "plt.show()"
   ]
  },
  {
   "cell_type": "code",
   "execution_count": 40,
   "metadata": {},
   "outputs": [
    {
     "data": {
      "image/png": "[encoded data removed]",
      "text/plain": [
       "<Figure size 432x288 with 1 Axes>"
      ]
     },
     "metadata": {
      "needs_background": "light"
     },
     "output_type": "display_data"
    }
   ],
   "source": [
    "# Adam with decay\n",
    "\n",
    "plt.plot(history.history['loss'], color='red')\n",
    "plt.plot(history.history['val_loss'], color='blue')\n",
    "plt.plot(history.history['acc'], color='black')\n",
    "plt.plot(history.history['val_acc'], color='pink')\n",
    "plt.show()"
   ]
  },
  {
   "cell_type": "code",
   "execution_count": null,
   "metadata": {},
   "outputs": [],
   "source": []
  },
  {
   "cell_type": "markdown",
   "metadata": {},
   "source": [
    "## Functional Model"
   ]
  },
  {
   "cell_type": "code",
   "execution_count": 12,
   "metadata": {},
   "outputs": [
    {
     "name": "stdout",
     "output_type": "stream",
     "text": [
      "_________________________________________________________________\n",
      "Layer (type)                 Output Shape              Param #   \n",
      "=================================================================\n",
      "input_1 (InputLayer)         (None, 784)               0         \n",
      "_________________________________________________________________\n",
      "dense_4 (Dense)              (None, 256)               200960    \n",
      "_________________________________________________________________\n",
      "dense_5 (Dense)              (None, 64)                16448     \n",
      "_________________________________________________________________\n",
      "dense_6 (Dense)              (None, 10)                650       \n",
      "=================================================================\n",
      "Total params: 218,058\n",
      "Trainable params: 218,058\n",
      "Non-trainable params: 0\n",
      "_________________________________________________________________\n"
     ]
    }
   ],
   "source": [
    "inp = Input(shape=(784,))\n",
    "d1 = Dense(256, activation='relu')(inp)\n",
    "d2 = Dense(64, activation='relu')(d1)\n",
    "d3 = Dense(10, activation='softmax')(d2)\n",
    "\n",
    "model = Model(inputs=[inp], outputs=[d3])\n",
    "\n",
    "model.summary()"
   ]
  },
  {
   "cell_type": "code",
   "execution_count": 13,
   "metadata": {},
   "outputs": [],
   "source": [
    "adam = Adam(decay=0.0001)"
   ]
  },
  {
   "cell_type": "code",
   "execution_count": 14,
   "metadata": {},
   "outputs": [],
   "source": [
    "model.compile(loss='categorical_crossentropy', optimizer=adam, metrics=['accuracy'])"
   ]
  },
  {
   "cell_type": "code",
   "execution_count": 15,
   "metadata": {
    "scrolled": true
   },
   "outputs": [
    {
     "name": "stdout",
     "output_type": "stream",
     "text": [
      "Train on 8000 samples, validate on 2000 samples\n",
      "Epoch 1/10\n",
      "8000/8000 [==============================] - 1s 67us/step - loss: 0.8997 - acc: 0.7079 - val_loss: 0.5818 - val_acc: 0.7950\n",
      "Epoch 2/10\n",
      "8000/8000 [==============================] - 0s 37us/step - loss: 0.5425 - acc: 0.8171 - val_loss: 0.4978 - val_acc: 0.8185\n",
      "Epoch 3/10\n",
      "8000/8000 [==============================] - 0s 39us/step - loss: 0.4877 - acc: 0.8304 - val_loss: 0.4717 - val_acc: 0.8325\n",
      "Epoch 4/10\n",
      "8000/8000 [==============================] - 0s 41us/step - loss: 0.4433 - acc: 0.8427 - val_loss: 0.4404 - val_acc: 0.8460\n",
      "Epoch 5/10\n",
      "8000/8000 [==============================] - 0s 39us/step - loss: 0.4070 - acc: 0.8554 - val_loss: 0.4187 - val_acc: 0.8520\n",
      "Epoch 6/10\n",
      "8000/8000 [==============================] - 0s 40us/step - loss: 0.3890 - acc: 0.8665 - val_loss: 0.4066 - val_acc: 0.8580\n",
      "Epoch 7/10\n",
      "8000/8000 [==============================] - 0s 45us/step - loss: 0.3512 - acc: 0.8750 - val_loss: 0.3967 - val_acc: 0.8630\n",
      "Epoch 8/10\n",
      "8000/8000 [==============================] - 0s 43us/step - loss: 0.3398 - acc: 0.8783 - val_loss: 0.4254 - val_acc: 0.8475\n",
      "Epoch 9/10\n",
      "8000/8000 [==============================] - 0s 38us/step - loss: 0.3329 - acc: 0.8810 - val_loss: 0.3867 - val_acc: 0.8660\n",
      "Epoch 10/10\n",
      "8000/8000 [==============================] - 0s 45us/step - loss: 0.3130 - acc: 0.8859 - val_loss: 0.3708 - val_acc: 0.8690\n"
     ]
    }
   ],
   "source": [
    "history = model.fit(X, y, epochs=10, \n",
    "                    batch_size=200, shuffle=True, \n",
    "                    validation_split=0.20)"
   ]
  },
  {
   "cell_type": "code",
   "execution_count": 16,
   "metadata": {},
   "outputs": [
    {
     "data": {
      "image/png": "[encoded data removed]",
      "text/plain": [
       "<Figure size 432x288 with 1 Axes>"
      ]
     },
     "metadata": {
      "needs_background": "light"
     },
     "output_type": "display_data"
    }
   ],
   "source": [
    "# Adam with decay\n",
    "\n",
    "plt.plot(history.history['loss'], color='red')\n",
    "plt.plot(history.history['val_loss'], color='blue')\n",
    "plt.plot(history.history['acc'], color='black')\n",
    "plt.plot(history.history['val_acc'], color='pink')\n",
    "plt.show()"
   ]
  },
  {
   "cell_type": "code",
   "execution_count": null,
   "metadata": {},
   "outputs": [],
   "source": []
  },
  {
   "cell_type": "code",
   "execution_count": null,
   "metadata": {},
   "outputs": [],
   "source": []
  },
  {
   "cell_type": "code",
   "execution_count": null,
   "metadata": {},
   "outputs": [],
   "source": []
  },
  {
   "cell_type": "code",
   "execution_count": null,
   "metadata": {},
   "outputs": [],
   "source": []
  },
  {
   "cell_type": "code",
   "execution_count": null,
   "metadata": {},
   "outputs": [],
   "source": []
  },
  {
   "cell_type": "code",
   "execution_count": null,
   "metadata": {},
   "outputs": [],
   "source": []
  }
 ],
 "metadata": {
  "kernelspec": {
   "display_name": "Python 3",
   "language": "python",
   "name": "python3"
  },
  "language_info": {
   "codemirror_mode": {
    "name": "ipython",
    "version": 3
   },
   "file_extension": ".py",
   "mimetype": "text/x-python",
   "name": "python",
   "nbconvert_exporter": "python",
   "pygments_lexer": "ipython3",
   "version": "3.5.2"
  }
 },
 "nbformat": 4,
 "nbformat_minor": 2
}
