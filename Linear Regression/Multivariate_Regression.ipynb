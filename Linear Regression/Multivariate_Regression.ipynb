{
 "cells": [
  {
   "cell_type": "code",
   "execution_count": 22,
   "metadata": {},
   "outputs": [],
   "source": [
    "## Bopston house price prediction usking sklearn"
   ]
  },
  {
   "cell_type": "code",
   "execution_count": 23,
   "metadata": {},
   "outputs": [],
   "source": [
    "from sklearn.linear_model import LinearRegression\n",
    "from sklearn.model_selection import train_test_split\n",
    "from sklearn.datasets import load_boston\n",
    "boston = load_boston()"
   ]
  },
  {
   "cell_type": "code",
   "execution_count": 24,
   "metadata": {},
   "outputs": [
    {
     "name": "stdout",
     "output_type": "stream",
     "text": [
      "(506, 13) (506,)\n"
     ]
    }
   ],
   "source": [
    "X = boston.data\n",
    "y = boston.target\n",
    "\n",
    "print(X.shape, y.shape)"
   ]
  },
  {
   "cell_type": "code",
   "execution_count": 25,
   "metadata": {},
   "outputs": [
    {
     "name": "stdout",
     "output_type": "stream",
     "text": [
      "(404, 13) (404,)\n",
      "(102, 13) (102,)\n"
     ]
    }
   ],
   "source": [
    "X_train,X_test,y_train,y_test = train_test_split(X,y,test_size = 0.2)\n",
    "\n",
    "print(X_train.shape,y_train.shape)\n",
    "print(X_test.shape,y_test.shape)"
   ]
  },
  {
   "cell_type": "markdown",
   "metadata": {},
   "source": [
    "## Using Sklearn"
   ]
  },
  {
   "cell_type": "code",
   "execution_count": 26,
   "metadata": {},
   "outputs": [
    {
     "name": "stdout",
     "output_type": "stream",
     "text": [
      "LinearRegression(copy_X=True, fit_intercept=True, n_jobs=None, normalize=True)\n"
     ]
    }
   ],
   "source": [
    "## training data\n",
    "\n",
    "lr = LinearRegression(normalize=True)   ## created an object\n",
    "print(lr)"
   ]
  },
  {
   "cell_type": "code",
   "execution_count": 27,
   "metadata": {},
   "outputs": [
    {
     "data": {
      "text/plain": [
       "LinearRegression(copy_X=True, fit_intercept=True, n_jobs=None, normalize=True)"
      ]
     },
     "execution_count": 27,
     "metadata": {},
     "output_type": "execute_result"
    }
   ],
   "source": [
    "lr.fit(X_train,y_train)"
   ]
  },
  {
   "cell_type": "code",
   "execution_count": 28,
   "metadata": {},
   "outputs": [
    {
     "name": "stdout",
     "output_type": "stream",
     "text": [
      "[-1.05039229e-01  4.64699806e-02  1.69075694e-03  3.18755668e+00\n",
      " -1.69919370e+01  3.93804743e+00  4.17906741e-04 -1.44138971e+00\n",
      "  3.07383080e-01 -1.21814158e-02 -9.59733632e-01  9.81823813e-03\n",
      " -5.08284911e-01]\n",
      "34.98954069121269\n"
     ]
    }
   ],
   "source": [
    "print(lr.coef_)              ## 13 coefficients\n",
    "print(lr.intercept_)    ## the bias or intercept"
   ]
  },
  {
   "cell_type": "code",
   "execution_count": 29,
   "metadata": {},
   "outputs": [
    {
     "name": "stdout",
     "output_type": "stream",
     "text": [
      "0.7546808235994203\n"
     ]
    }
   ],
   "source": [
    "print(lr.score(X_train,y_train))"
   ]
  },
  {
   "cell_type": "markdown",
   "metadata": {},
   "source": [
    "## From Scratch"
   ]
  },
  {
   "cell_type": "code",
   "execution_count": 30,
   "metadata": {},
   "outputs": [],
   "source": [
    "import numpy as np\n",
    "import matplotlib.pyplot as plt\n",
    "import pandas as pd"
   ]
  },
  {
   "cell_type": "code",
   "execution_count": 31,
   "metadata": {},
   "outputs": [],
   "source": [
    "ones = np.ones([X_train.shape[0],1])\n",
    "\n",
    "X_train = np.hstack([ones,X_train])"
   ]
  },
  {
   "cell_type": "code",
   "execution_count": 32,
   "metadata": {},
   "outputs": [],
   "source": [
    "def hypothesis(X,theta):\n",
    "    \n",
    "    return np.sum(np.dot(X,theta.T))"
   ]
  },
  {
   "cell_type": "code",
   "execution_count": 33,
   "metadata": {},
   "outputs": [],
   "source": [
    "def error(X,y,theta):\n",
    "    \n",
    "    m = X.shape[0]\n",
    "    err = 0\n",
    "    \n",
    "    for ix in range(m):\n",
    "        \n",
    "        hx = hypothesis(X[ix],theta)\n",
    "        err += (hx-y[ix])**2\n",
    "        \n",
    "    return err/m"
   ]
  },
  {
   "cell_type": "code",
   "execution_count": 39,
   "metadata": {},
   "outputs": [],
   "source": [
    "def grad(X,y,theta):\n",
    "    \n",
    "    grad = np.zeros((X.shape[1],))\n",
    "    m = X.shape[0]\n",
    "    \n",
    "    for ix in range(m):\n",
    "        \n",
    "        for jx in range(X.shape[1]):\n",
    "            \n",
    "            hx = hypothesis(X[ix],theta)\n",
    "            grad[jx] += ((-hx + y[ix])*X[ix][jx])\n",
    "        \n",
    "    return grad/m"
   ]
  },
  {
   "cell_type": "code",
   "execution_count": 44,
   "metadata": {},
   "outputs": [],
   "source": [
    "def gradientDescent(X,y,learning_rate=0.0001):\n",
    "    \n",
    "    theta = np.zeros((X.shape[1],))  #theta is zero in the beg.\n",
    "    itr = 0\n",
    "    max_itr = 10\n",
    "    error_list = []\n",
    "    \n",
    "    while(itr<=max_itr):      #doing updation of theta for a fixed no. of values\n",
    "        \n",
    "        gradient = grad(X,y,theta)\n",
    "        e = error(X,y,theta)\n",
    "        print(e)\n",
    "        error_list.append(e)                                   #list or error for all the iterations\n",
    "            \n",
    "        for ix in range(X.shape[1]):\n",
    "            \n",
    "            theta[ix] = theta[ix] - learning_rate*(gradient[ix])\n",
    "            \n",
    "        itr += 1\n",
    "        \n",
    "    return theta,error_list"
   ]
  },
  {
   "cell_type": "code",
   "execution_count": 45,
   "metadata": {},
   "outputs": [
    {
     "name": "stdout",
     "output_type": "stream",
     "text": [
      "591.6359653465342\n",
      "467876.9276456279\n",
      "483405554.3457956\n",
      "500271416374.04016\n",
      "517734707865397.44\n",
      "5.358077094099709e+17\n",
      "5.5451160174859275e+20\n",
      "5.73868406673109e+23\n",
      "5.939009159396279e+26\n",
      "6.146327169302565e+29\n",
      "6.3608822041195666e+32\n"
     ]
    }
   ],
   "source": [
    "final_theta, error_list = gradientDescent(X_train,y_train)\n",
    "\n",
    "##print(final_theta)"
   ]
  },
  {
   "cell_type": "code",
   "execution_count": 46,
   "metadata": {},
   "outputs": [
    {
     "data": {
      "text/plain": [
       "[<matplotlib.lines.Line2D at 0x7f4d29efd748>]"
      ]
     },
     "execution_count": 46,
     "metadata": {},
     "output_type": "execute_result"
    },
    {
     "data": {
      "image/png": "[encoded data removed]",
      "text/plain": [
       "<Figure size 432x288 with 1 Axes>"
      ]
     },
     "metadata": {
      "needs_background": "light"
     },
     "output_type": "display_data"
    }
   ],
   "source": [
    "plt.plot(error_list)"
   ]
  },
  {
   "cell_type": "code",
   "execution_count": 47,
   "metadata": {},
   "outputs": [
    {
     "name": "stdout",
     "output_type": "stream",
     "text": [
      "[591.6359653465342, 467876.9276456279, 483405554.3457956, 500271416374.04016, 517734707865397.44, 5.358077094099709e+17, 5.5451160174859275e+20, 5.73868406673109e+23, 5.939009159396279e+26, 6.146327169302565e+29, 6.3608822041195666e+32]\n"
     ]
    }
   ],
   "source": [
    "print(error_list)"
   ]
  },
  {
   "cell_type": "code",
   "execution_count": null,
   "metadata": {},
   "outputs": [],
   "source": []
  },
  {
   "cell_type": "code",
   "execution_count": null,
   "metadata": {},
   "outputs": [],
   "source": []
  },
  {
   "cell_type": "code",
   "execution_count": null,
   "metadata": {},
   "outputs": [],
   "source": []
  },
  {
   "cell_type": "code",
   "execution_count": null,
   "metadata": {},
   "outputs": [],
   "source": []
  },
  {
   "cell_type": "code",
   "execution_count": null,
   "metadata": {},
   "outputs": [],
   "source": []
  },
  {
   "cell_type": "code",
   "execution_count": null,
   "metadata": {},
   "outputs": [],
   "source": []
  },
  {
   "cell_type": "code",
   "execution_count": null,
   "metadata": {},
   "outputs": [],
   "source": []
  },
  {
   "cell_type": "code",
   "execution_count": null,
   "metadata": {},
   "outputs": [],
   "source": []
  },
  {
   "cell_type": "code",
   "execution_count": null,
   "metadata": {},
   "outputs": [],
   "source": []
  },
  {
   "cell_type": "code",
   "execution_count": null,
   "metadata": {},
   "outputs": [],
   "source": []
  }
 ],
 "metadata": {
  "kernelspec": {
   "display_name": "Python 3",
   "language": "python",
   "name": "python3"
  },
  "language_info": {
   "codemirror_mode": {
    "name": "ipython",
    "version": 3
   },
   "file_extension": ".py",
   "mimetype": "text/x-python",
   "name": "python",
   "nbconvert_exporter": "python",
   "pygments_lexer": "ipython3",
   "version": "3.5.2"
  }
 },
 "nbformat": 4,
 "nbformat_minor": 2
}
