{
 "cells": [
  {
   "cell_type": "code",
   "execution_count": 1,
   "metadata": {},
   "outputs": [],
   "source": [
    "def extendList(val, list=[]):\n",
    "    list.append(val)\n",
    "    return list"
   ]
  },
  {
   "cell_type": "code",
   "execution_count": 2,
   "metadata": {},
   "outputs": [],
   "source": [
    "list1 = extendList(10)\n",
    "list2 = extendList(123,[])\n",
    "list3 = extendList('a')"
   ]
  },
  {
   "cell_type": "code",
   "execution_count": 3,
   "metadata": {},
   "outputs": [
    {
     "name": "stdout",
     "output_type": "stream",
     "text": [
      "list1 = [10, 'a']\n",
      "list2 = [123]\n",
      "list3 = [10, 'a']\n"
     ]
    }
   ],
   "source": [
    "print \"list1 = %s\" % list1\n",
    "print \"list2 = %s\" % list2\n",
    "print \"list3 = %s\" % list3"
   ]
  },
  {
   "cell_type": "code",
   "execution_count": null,
   "metadata": {},
   "outputs": [],
   "source": []
  },
  {
   "cell_type": "code",
   "execution_count": 4,
   "metadata": {},
   "outputs": [],
   "source": [
    "class A():\n",
    "    x = 1"
   ]
  },
  {
   "cell_type": "code",
   "execution_count": 5,
   "metadata": {},
   "outputs": [
    {
     "name": "stdout",
     "output_type": "stream",
     "text": [
      "1\n"
     ]
    }
   ],
   "source": [
    "a = A()\n",
    "\n",
    "print a.x"
   ]
  },
  {
   "cell_type": "code",
   "execution_count": 6,
   "metadata": {},
   "outputs": [
    {
     "name": "stdout",
     "output_type": "stream",
     "text": [
      "1\n",
      "1\n",
      "1\n",
      "1\n",
      "1\n",
      "1\n",
      "1\n",
      "1\n",
      "1\n",
      "1\n"
     ]
    }
   ],
   "source": [
    "b = [A()] * 10\n",
    "\n",
    "for ix in b:\n",
    "    print ix.x"
   ]
  },
  {
   "cell_type": "code",
   "execution_count": 15,
   "metadata": {},
   "outputs": [
    {
     "name": "stdout",
     "output_type": "stream",
     "text": [
      "[<__main__.A instance at 0x7f6e7c252b48>, <__main__.A instance at 0x7f6e7c252b48>, <__main__.A instance at 0x7f6e7c252b48>, <__main__.A instance at 0x7f6e7c252b48>, <__main__.A instance at 0x7f6e7c252b48>, <__main__.A instance at 0x7f6e7c252b48>, <__main__.A instance at 0x7f6e7c252b48>, <__main__.A instance at 0x7f6e7c252b48>, <__main__.A instance at 0x7f6e7c252b48>, <__main__.A instance at 0x7f6e7c252b48>]\n"
     ]
    }
   ],
   "source": [
    "print(b)"
   ]
  },
  {
   "cell_type": "code",
   "execution_count": 8,
   "metadata": {},
   "outputs": [
    {
     "name": "stdout",
     "output_type": "stream",
     "text": [
      "5\n",
      "5\n",
      "5\n",
      "5\n",
      "5\n",
      "5\n",
      "5\n",
      "5\n",
      "5\n",
      "5\n"
     ]
    }
   ],
   "source": [
    "b[2].x = 5\n",
    "\n",
    "for ix in b:\n",
    "    print (ix.x)"
   ]
  },
  {
   "cell_type": "code",
   "execution_count": 9,
   "metadata": {},
   "outputs": [],
   "source": [
    "c = [A() for ix in range(10)]"
   ]
  },
  {
   "cell_type": "code",
   "execution_count": 16,
   "metadata": {},
   "outputs": [
    {
     "name": "stdout",
     "output_type": "stream",
     "text": [
      "[<__main__.A instance at 0x7f6e7c252ea8>, <__main__.A instance at 0x7f6e7c252ef0>, <__main__.A instance at 0x7f6e7c252e18>, <__main__.A instance at 0x7f6e7c252f80>, <__main__.A instance at 0x7f6e7c252fc8>, <__main__.A instance at 0x7f6e7c267050>, <__main__.A instance at 0x7f6e7c267098>, <__main__.A instance at 0x7f6e7c2670e0>, <__main__.A instance at 0x7f6e7c267128>, <__main__.A instance at 0x7f6e7c267170>]\n"
     ]
    }
   ],
   "source": [
    "print (c)"
   ]
  },
  {
   "cell_type": "code",
   "execution_count": 10,
   "metadata": {},
   "outputs": [
    {
     "name": "stdout",
     "output_type": "stream",
     "text": [
      "1\n",
      "1\n",
      "1\n",
      "1\n",
      "1\n",
      "1\n",
      "1\n",
      "1\n",
      "1\n",
      "1\n"
     ]
    }
   ],
   "source": [
    "for ix in c:\n",
    "    print ix.x"
   ]
  },
  {
   "cell_type": "code",
   "execution_count": 11,
   "metadata": {},
   "outputs": [
    {
     "name": "stdout",
     "output_type": "stream",
     "text": [
      "1\n",
      "1\n",
      "5\n",
      "1\n",
      "1\n",
      "1\n",
      "1\n",
      "1\n",
      "1\n",
      "1\n"
     ]
    }
   ],
   "source": [
    "c[2].x = 5\n",
    "\n",
    "for ix in c:\n",
    "    print (ix.x)"
   ]
  },
  {
   "cell_type": "code",
   "execution_count": 12,
   "metadata": {},
   "outputs": [],
   "source": [
    "class Obj:\n",
    "    def __init__(self, a=0, b=1):\n",
    "        self.a = a\n",
    "        self.b = b"
   ]
  },
  {
   "cell_type": "code",
   "execution_count": 13,
   "metadata": {},
   "outputs": [],
   "source": [
    "objects = [Obj(1, 2), Obj(5, 4), Obj(7, 3),Obj(11, 42), Obj(8, 0), Obj(5, 9)]"
   ]
  },
  {
   "cell_type": "code",
   "execution_count": 20,
   "metadata": {},
   "outputs": [],
   "source": [
    "objects.sort(key=lambda x : x.b,reverse=True)"
   ]
  },
  {
   "cell_type": "code",
   "execution_count": 21,
   "metadata": {},
   "outputs": [
    {
     "name": "stdout",
     "output_type": "stream",
     "text": [
      "(11, 42)\n",
      "(5, 9)\n",
      "(5, 4)\n",
      "(7, 3)\n",
      "(1, 2)\n",
      "(8, 0)\n"
     ]
    }
   ],
   "source": [
    "for ix in objects:\n",
    "    print (ix.a,ix.b)"
   ]
  },
  {
   "cell_type": "code",
   "execution_count": 23,
   "metadata": {},
   "outputs": [],
   "source": [
    "s = \"This is introduction to python for ML\""
   ]
  },
  {
   "cell_type": "code",
   "execution_count": 27,
   "metadata": {},
   "outputs": [],
   "source": [
    "sl = s.split()"
   ]
  },
  {
   "cell_type": "code",
   "execution_count": 30,
   "metadata": {},
   "outputs": [
    {
     "data": {
      "text/plain": [
       "'This#is#introduction#to#python#for#ML'"
      ]
     },
     "execution_count": 30,
     "metadata": {},
     "output_type": "execute_result"
    }
   ],
   "source": [
    "\"#\".join(sl)"
   ]
  },
  {
   "cell_type": "code",
   "execution_count": 32,
   "metadata": {},
   "outputs": [
    {
     "name": "stdout",
     "output_type": "stream",
     "text": [
      "['', 'b', 'cd', 'eg', 'kialaop']\n"
     ]
    }
   ],
   "source": [
    "some_string = \"abacdaegakialaop\"\n",
    "print some_string.split('a', 4)"
   ]
  }
 ],
 "metadata": {
  "kernelspec": {
   "display_name": "Python 2",
   "language": "python",
   "name": "python2"
  },
  "language_info": {
   "codemirror_mode": {
    "name": "ipython",
    "version": 2
   },
   "file_extension": ".py",
   "mimetype": "text/x-python",
   "name": "python",
   "nbconvert_exporter": "python",
   "pygments_lexer": "ipython2",
   "version": "2.7.15+"
  }
 },
 "nbformat": 4,
 "nbformat_minor": 2
}
