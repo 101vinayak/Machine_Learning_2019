{
 "cells": [
  {
   "cell_type": "code",
   "execution_count": 42,
   "metadata": {},
   "outputs": [],
   "source": [
    "import numpy as np\n",
    "import matplotlib.pyplot as plt\n",
    "import pandas as pd\n",
    "from sklearn.preprocessing import LabelEncoder\n",
    "from sklearn.model_selection import train_test_split"
   ]
  },
  {
   "cell_type": "code",
   "execution_count": 26,
   "metadata": {},
   "outputs": [],
   "source": [
    "data_orig = pd.read_csv('./mushrooms.csv')"
   ]
  },
  {
   "cell_type": "code",
   "execution_count": 27,
   "metadata": {},
   "outputs": [
    {
     "name": "stdout",
     "output_type": "stream",
     "text": [
      "(8124, 23)\n"
     ]
    }
   ],
   "source": [
    "print(data_orig.shape)"
   ]
  },
  {
   "cell_type": "code",
   "execution_count": 28,
   "metadata": {},
   "outputs": [
    {
     "data": {
      "text/html": [
       "<div>\n",
       "<style scoped>\n",
       "    .dataframe tbody tr th:only-of-type {\n",
       "        vertical-align: middle;\n",
       "    }\n",
       "\n",
       "    .dataframe tbody tr th {\n",
       "        vertical-align: top;\n",
       "    }\n",
       "\n",
       "    .dataframe thead th {\n",
       "        text-align: right;\n",
       "    }\n",
       "</style>\n",
       "<table border=\"1\" class=\"dataframe\">\n",
       "  <thead>\n",
       "    <tr style=\"text-align: right;\">\n",
       "      <th></th>\n",
       "      <th>type</th>\n",
       "      <th>cap_shape</th>\n",
       "      <th>cap_surface</th>\n",
       "      <th>cap_color</th>\n",
       "      <th>bruises</th>\n",
       "      <th>odor</th>\n",
       "      <th>gill_attachment</th>\n",
       "      <th>gill_spacing</th>\n",
       "      <th>gill_size</th>\n",
       "      <th>gill_color</th>\n",
       "      <th>...</th>\n",
       "      <th>stalk_surface_below_ring</th>\n",
       "      <th>stalk_color_above_ring</th>\n",
       "      <th>stalk_color_below_ring</th>\n",
       "      <th>veil_type</th>\n",
       "      <th>veil_color</th>\n",
       "      <th>ring_number</th>\n",
       "      <th>ring_type</th>\n",
       "      <th>spore_print_color</th>\n",
       "      <th>population</th>\n",
       "      <th>habitat</th>\n",
       "    </tr>\n",
       "  </thead>\n",
       "  <tbody>\n",
       "    <tr>\n",
       "      <th>0</th>\n",
       "      <td>p</td>\n",
       "      <td>x</td>\n",
       "      <td>s</td>\n",
       "      <td>n</td>\n",
       "      <td>t</td>\n",
       "      <td>p</td>\n",
       "      <td>f</td>\n",
       "      <td>c</td>\n",
       "      <td>n</td>\n",
       "      <td>k</td>\n",
       "      <td>...</td>\n",
       "      <td>s</td>\n",
       "      <td>w</td>\n",
       "      <td>w</td>\n",
       "      <td>p</td>\n",
       "      <td>w</td>\n",
       "      <td>o</td>\n",
       "      <td>p</td>\n",
       "      <td>k</td>\n",
       "      <td>s</td>\n",
       "      <td>u</td>\n",
       "    </tr>\n",
       "    <tr>\n",
       "      <th>1</th>\n",
       "      <td>e</td>\n",
       "      <td>x</td>\n",
       "      <td>s</td>\n",
       "      <td>y</td>\n",
       "      <td>t</td>\n",
       "      <td>a</td>\n",
       "      <td>f</td>\n",
       "      <td>c</td>\n",
       "      <td>b</td>\n",
       "      <td>k</td>\n",
       "      <td>...</td>\n",
       "      <td>s</td>\n",
       "      <td>w</td>\n",
       "      <td>w</td>\n",
       "      <td>p</td>\n",
       "      <td>w</td>\n",
       "      <td>o</td>\n",
       "      <td>p</td>\n",
       "      <td>n</td>\n",
       "      <td>n</td>\n",
       "      <td>g</td>\n",
       "    </tr>\n",
       "    <tr>\n",
       "      <th>2</th>\n",
       "      <td>e</td>\n",
       "      <td>b</td>\n",
       "      <td>s</td>\n",
       "      <td>w</td>\n",
       "      <td>t</td>\n",
       "      <td>l</td>\n",
       "      <td>f</td>\n",
       "      <td>c</td>\n",
       "      <td>b</td>\n",
       "      <td>n</td>\n",
       "      <td>...</td>\n",
       "      <td>s</td>\n",
       "      <td>w</td>\n",
       "      <td>w</td>\n",
       "      <td>p</td>\n",
       "      <td>w</td>\n",
       "      <td>o</td>\n",
       "      <td>p</td>\n",
       "      <td>n</td>\n",
       "      <td>n</td>\n",
       "      <td>m</td>\n",
       "    </tr>\n",
       "    <tr>\n",
       "      <th>3</th>\n",
       "      <td>p</td>\n",
       "      <td>x</td>\n",
       "      <td>y</td>\n",
       "      <td>w</td>\n",
       "      <td>t</td>\n",
       "      <td>p</td>\n",
       "      <td>f</td>\n",
       "      <td>c</td>\n",
       "      <td>n</td>\n",
       "      <td>n</td>\n",
       "      <td>...</td>\n",
       "      <td>s</td>\n",
       "      <td>w</td>\n",
       "      <td>w</td>\n",
       "      <td>p</td>\n",
       "      <td>w</td>\n",
       "      <td>o</td>\n",
       "      <td>p</td>\n",
       "      <td>k</td>\n",
       "      <td>s</td>\n",
       "      <td>u</td>\n",
       "    </tr>\n",
       "    <tr>\n",
       "      <th>4</th>\n",
       "      <td>e</td>\n",
       "      <td>x</td>\n",
       "      <td>s</td>\n",
       "      <td>g</td>\n",
       "      <td>f</td>\n",
       "      <td>n</td>\n",
       "      <td>f</td>\n",
       "      <td>w</td>\n",
       "      <td>b</td>\n",
       "      <td>k</td>\n",
       "      <td>...</td>\n",
       "      <td>s</td>\n",
       "      <td>w</td>\n",
       "      <td>w</td>\n",
       "      <td>p</td>\n",
       "      <td>w</td>\n",
       "      <td>o</td>\n",
       "      <td>e</td>\n",
       "      <td>n</td>\n",
       "      <td>a</td>\n",
       "      <td>g</td>\n",
       "    </tr>\n",
       "  </tbody>\n",
       "</table>\n",
       "<p>5 rows × 23 columns</p>\n",
       "</div>"
      ],
      "text/plain": [
       "  type cap_shape cap_surface cap_color bruises odor gill_attachment  \\\n",
       "0    p         x           s         n       t    p               f   \n",
       "1    e         x           s         y       t    a               f   \n",
       "2    e         b           s         w       t    l               f   \n",
       "3    p         x           y         w       t    p               f   \n",
       "4    e         x           s         g       f    n               f   \n",
       "\n",
       "  gill_spacing gill_size gill_color   ...   stalk_surface_below_ring  \\\n",
       "0            c         n          k   ...                          s   \n",
       "1            c         b          k   ...                          s   \n",
       "2            c         b          n   ...                          s   \n",
       "3            c         n          n   ...                          s   \n",
       "4            w         b          k   ...                          s   \n",
       "\n",
       "  stalk_color_above_ring stalk_color_below_ring veil_type veil_color  \\\n",
       "0                      w                      w         p          w   \n",
       "1                      w                      w         p          w   \n",
       "2                      w                      w         p          w   \n",
       "3                      w                      w         p          w   \n",
       "4                      w                      w         p          w   \n",
       "\n",
       "  ring_number ring_type spore_print_color population habitat  \n",
       "0           o         p                 k          s       u  \n",
       "1           o         p                 n          n       g  \n",
       "2           o         p                 n          n       m  \n",
       "3           o         p                 k          s       u  \n",
       "4           o         e                 n          a       g  \n",
       "\n",
       "[5 rows x 23 columns]"
      ]
     },
     "execution_count": 28,
     "metadata": {},
     "output_type": "execute_result"
    }
   ],
   "source": [
    "data_orig.head()"
   ]
  },
  {
   "cell_type": "code",
   "execution_count": 29,
   "metadata": {},
   "outputs": [],
   "source": [
    "data = data_orig.values"
   ]
  },
  {
   "cell_type": "code",
   "execution_count": 30,
   "metadata": {},
   "outputs": [
    {
     "name": "stdout",
     "output_type": "stream",
     "text": [
      "(8124, 23)\n"
     ]
    }
   ],
   "source": [
    "print(data.shape)"
   ]
  },
  {
   "cell_type": "markdown",
   "metadata": {},
   "source": [
    "# LabelEncoder example"
   ]
  },
  {
   "cell_type": "code",
   "execution_count": 31,
   "metadata": {},
   "outputs": [
    {
     "name": "stdout",
     "output_type": "stream",
     "text": [
      "(8124,)\n"
     ]
    }
   ],
   "source": [
    "xtemp = data[:,0]\n",
    "print(xtemp.shape)"
   ]
  },
  {
   "cell_type": "code",
   "execution_count": 32,
   "metadata": {},
   "outputs": [
    {
     "name": "stdout",
     "output_type": "stream",
     "text": [
      "['p' 'e' 'e' 'p' 'e' 'e' 'e' 'e' 'p' 'e']\n"
     ]
    }
   ],
   "source": [
    "print(xtemp[:10])"
   ]
  },
  {
   "cell_type": "code",
   "execution_count": 33,
   "metadata": {},
   "outputs": [],
   "source": [
    "letemp = LabelEncoder()"
   ]
  },
  {
   "cell_type": "code",
   "execution_count": 34,
   "metadata": {},
   "outputs": [],
   "source": [
    "letemp.fit(xtemp)\n",
    "xconv = letemp.transform(xtemp)"
   ]
  },
  {
   "cell_type": "code",
   "execution_count": 35,
   "metadata": {},
   "outputs": [
    {
     "name": "stdout",
     "output_type": "stream",
     "text": [
      "[1 0 0 ..., 0 1 0]\n"
     ]
    }
   ],
   "source": [
    "print(xconv)"
   ]
  },
  {
   "cell_type": "code",
   "execution_count": 36,
   "metadata": {},
   "outputs": [
    {
     "data": {
      "text/plain": [
       "array(['e', 'p'], dtype=object)"
      ]
     },
     "execution_count": 36,
     "metadata": {},
     "output_type": "execute_result"
    }
   ],
   "source": [
    "letemp.classes_"
   ]
  },
  {
   "cell_type": "code",
   "execution_count": 37,
   "metadata": {},
   "outputs": [],
   "source": [
    "orig = letemp.inverse_transform(xconv)"
   ]
  },
  {
   "cell_type": "code",
   "execution_count": 38,
   "metadata": {},
   "outputs": [
    {
     "name": "stdout",
     "output_type": "stream",
     "text": [
      "['p' 'e' 'e' 'p' 'e' 'e' 'e' 'e' 'p' 'e']\n",
      "['p' 'e' 'e' 'p' 'e' 'e' 'e' 'e' 'p' 'e']\n"
     ]
    }
   ],
   "source": [
    "print(orig[:10])\n",
    "print(xtemp[:10])"
   ]
  },
  {
   "cell_type": "markdown",
   "metadata": {},
   "source": [
    "# Dataset preprocessing"
   ]
  },
  {
   "cell_type": "code",
   "execution_count": 39,
   "metadata": {},
   "outputs": [],
   "source": [
    "le = LabelEncoder()"
   ]
  },
  {
   "cell_type": "code",
   "execution_count": 40,
   "metadata": {},
   "outputs": [],
   "source": [
    "data = data_orig.apply(le.fit_transform)"
   ]
  },
  {
   "cell_type": "code",
   "execution_count": 41,
   "metadata": {},
   "outputs": [
    {
     "name": "stdout",
     "output_type": "stream",
     "text": [
      "      type  cap_shape  cap_surface  cap_color  bruises  odor  gill_attachment  \\\n",
      "0        1          5            2          4        1     6                1   \n",
      "1        0          5            2          9        1     0                1   \n",
      "2        0          0            2          8        1     3                1   \n",
      "3        1          5            3          8        1     6                1   \n",
      "4        0          5            2          3        0     5                1   \n",
      "5        0          5            3          9        1     0                1   \n",
      "6        0          0            2          8        1     0                1   \n",
      "7        0          0            3          8        1     3                1   \n",
      "8        1          5            3          8        1     6                1   \n",
      "9        0          0            2          9        1     0                1   \n",
      "10       0          5            3          9        1     3                1   \n",
      "11       0          5            3          9        1     0                1   \n",
      "12       0          0            2          9        1     0                1   \n",
      "13       1          5            3          8        1     6                1   \n",
      "14       0          5            0          4        0     5                1   \n",
      "15       0          4            0          3        0     5                1   \n",
      "16       0          2            0          8        0     5                1   \n",
      "17       1          5            2          4        1     6                1   \n",
      "18       1          5            3          8        1     6                1   \n",
      "19       1          5            2          4        1     6                1   \n",
      "20       0          0            2          9        1     0                1   \n",
      "21       1          5            3          4        1     6                1   \n",
      "22       0          0            3          9        1     3                1   \n",
      "23       0          0            3          8        1     0                1   \n",
      "24       0          0            2          8        1     3                1   \n",
      "25       1          2            2          8        1     6                1   \n",
      "26       0          5            3          9        1     0                1   \n",
      "27       0          5            3          8        1     3                1   \n",
      "28       0          2            0          4        0     5                1   \n",
      "29       0          5            2          9        1     0                1   \n",
      "...    ...        ...          ...        ...      ...   ...              ...   \n",
      "8094     0          0            2          3        0     5                1   \n",
      "8095     1          5            3          1        0     4                1   \n",
      "8096     0          3            0          8        0     5                1   \n",
      "8097     1          3            3          4        0     7                1   \n",
      "8098     1          3            2          2        0     8                1   \n",
      "8099     0          3            0          8        0     5                1   \n",
      "8100     0          2            2          4        0     5                0   \n",
      "8101     1          3            2          2        0     7                1   \n",
      "8102     0          5            2          4        0     5                0   \n",
      "8103     0          3            2          4        0     5                0   \n",
      "8104     0          3            2          4        0     5                0   \n",
      "8105     0          3            2          4        0     5                0   \n",
      "8106     0          3            2          4        0     5                0   \n",
      "8107     0          5            2          4        0     5                0   \n",
      "8108     1          3            3          2        0     8                1   \n",
      "8109     0          0            2          8        0     5                1   \n",
      "8110     0          5            2          4        0     5                0   \n",
      "8111     0          3            2          8        0     5                1   \n",
      "8112     0          3            2          4        0     5                0   \n",
      "8113     1          3            3          2        0     8                1   \n",
      "8114     1          2            3          1        0     4                0   \n",
      "8115     0          5            2          4        0     5                0   \n",
      "8116     1          3            3          4        0     7                1   \n",
      "8117     1          3            2          2        0     8                1   \n",
      "8118     1          3            3          4        0     2                1   \n",
      "8119     0          3            2          4        0     5                0   \n",
      "8120     0          5            2          4        0     5                0   \n",
      "8121     0          2            2          4        0     5                0   \n",
      "8122     1          3            3          4        0     8                1   \n",
      "8123     0          5            2          4        0     5                0   \n",
      "\n",
      "      gill_spacing  gill_size  gill_color   ...     stalk_surface_below_ring  \\\n",
      "0                0          1           4   ...                            2   \n",
      "1                0          0           4   ...                            2   \n",
      "2                0          0           5   ...                            2   \n",
      "3                0          1           5   ...                            2   \n",
      "4                1          0           4   ...                            2   \n",
      "5                0          0           5   ...                            2   \n",
      "6                0          0           2   ...                            2   \n",
      "7                0          0           5   ...                            2   \n",
      "8                0          1           7   ...                            2   \n",
      "9                0          0           2   ...                            2   \n",
      "10               0          0           2   ...                            2   \n",
      "11               0          0           5   ...                            2   \n",
      "12               0          0          10   ...                            2   \n",
      "13               0          1           4   ...                            2   \n",
      "14               1          0           5   ...                            0   \n",
      "15               0          1           4   ...                            2   \n",
      "16               1          0           4   ...                            2   \n",
      "17               0          1           5   ...                            2   \n",
      "18               0          1           5   ...                            2   \n",
      "19               0          1           4   ...                            2   \n",
      "20               0          0           4   ...                            2   \n",
      "21               0          1           5   ...                            2   \n",
      "22               0          0           4   ...                            2   \n",
      "23               0          0          10   ...                            2   \n",
      "24               0          0           2   ...                            2   \n",
      "25               0          1           5   ...                            2   \n",
      "26               0          0           5   ...                            2   \n",
      "27               0          0          10   ...                            2   \n",
      "28               0          1           4   ...                            2   \n",
      "29               1          1           5   ...                            2   \n",
      "...            ...        ...         ...   ...                          ...   \n",
      "8094             1          0           2   ...                            2   \n",
      "8095             0          0          11   ...                            3   \n",
      "8096             1          0          10   ...                            2   \n",
      "8097             0          1           0   ...                            1   \n",
      "8098             0          1           0   ...                            1   \n",
      "8099             1          0          10   ...                            1   \n",
      "8100             0          0           6   ...                            2   \n",
      "8101             0          1           0   ...                            2   \n",
      "8102             0          0          11   ...                            2   \n",
      "8103             0          0          11   ...                            2   \n",
      "8104             0          0          11   ...                            2   \n",
      "8105             0          0          11   ...                            2   \n",
      "8106             0          0           6   ...                            2   \n",
      "8107             0          0          11   ...                            2   \n",
      "8108             0          1           0   ...                            2   \n",
      "8109             1          0          10   ...                            2   \n",
      "8110             0          0           6   ...                            2   \n",
      "8111             1          0           7   ...                            2   \n",
      "8112             0          0           6   ...                            2   \n",
      "8113             0          1           0   ...                            1   \n",
      "8114             0          0          11   ...                            3   \n",
      "8115             0          0          11   ...                            2   \n",
      "8116             0          1           0   ...                            1   \n",
      "8117             0          1           0   ...                            2   \n",
      "8118             0          1           0   ...                            2   \n",
      "8119             0          0          11   ...                            2   \n",
      "8120             0          0          11   ...                            2   \n",
      "8121             0          0           5   ...                            2   \n",
      "8122             0          1           0   ...                            1   \n",
      "8123             0          0          11   ...                            2   \n",
      "\n",
      "      stalk_color_above_ring  stalk_color_below_ring  veil_type  veil_color  \\\n",
      "0                          7                       7          0           2   \n",
      "1                          7                       7          0           2   \n",
      "2                          7                       7          0           2   \n",
      "3                          7                       7          0           2   \n",
      "4                          7                       7          0           2   \n",
      "5                          7                       7          0           2   \n",
      "6                          7                       7          0           2   \n",
      "7                          7                       7          0           2   \n",
      "8                          7                       7          0           2   \n",
      "9                          7                       7          0           2   \n",
      "10                         7                       7          0           2   \n",
      "11                         7                       7          0           2   \n",
      "12                         7                       7          0           2   \n",
      "13                         7                       7          0           2   \n",
      "14                         7                       7          0           2   \n",
      "15                         7                       7          0           2   \n",
      "16                         7                       7          0           2   \n",
      "17                         7                       7          0           2   \n",
      "18                         7                       7          0           2   \n",
      "19                         7                       7          0           2   \n",
      "20                         7                       7          0           2   \n",
      "21                         7                       7          0           2   \n",
      "22                         7                       7          0           2   \n",
      "23                         7                       7          0           2   \n",
      "24                         7                       7          0           2   \n",
      "25                         7                       7          0           2   \n",
      "26                         7                       7          0           2   \n",
      "27                         7                       7          0           2   \n",
      "28                         7                       7          0           2   \n",
      "29                         7                       7          0           2   \n",
      "...                      ...                     ...        ...         ...   \n",
      "8094                       7                       7          0           2   \n",
      "8095                       1                       1          0           2   \n",
      "8096                       7                       7          0           2   \n",
      "8097                       6                       6          0           2   \n",
      "8098                       7                       6          0           2   \n",
      "8099                       7                       7          0           2   \n",
      "8100                       5                       5          0           0   \n",
      "8101                       6                       7          0           2   \n",
      "8102                       5                       5          0           0   \n",
      "8103                       5                       5          0           0   \n",
      "8104                       5                       5          0           1   \n",
      "8105                       5                       5          0           0   \n",
      "8106                       5                       5          0           1   \n",
      "8107                       5                       5          0           1   \n",
      "8108                       6                       7          0           2   \n",
      "8109                       7                       7          0           2   \n",
      "8110                       5                       5          0           1   \n",
      "8111                       7                       7          0           2   \n",
      "8112                       5                       5          0           0   \n",
      "8113                       6                       6          0           2   \n",
      "8114                       1                       1          0           2   \n",
      "8115                       5                       5          0           1   \n",
      "8116                       6                       7          0           2   \n",
      "8117                       6                       7          0           2   \n",
      "8118                       6                       7          0           2   \n",
      "8119                       5                       5          0           1   \n",
      "8120                       5                       5          0           0   \n",
      "8121                       5                       5          0           1   \n",
      "8122                       7                       7          0           2   \n",
      "8123                       5                       5          0           1   \n",
      "\n",
      "      ring_number  ring_type  spore_print_color  population  habitat  \n",
      "0               1          4                  2           3        5  \n",
      "1               1          4                  3           2        1  \n",
      "2               1          4                  3           2        3  \n",
      "3               1          4                  2           3        5  \n",
      "4               1          0                  3           0        1  \n",
      "5               1          4                  2           2        1  \n",
      "6               1          4                  2           2        3  \n",
      "7               1          4                  3           3        3  \n",
      "8               1          4                  2           4        1  \n",
      "9               1          4                  2           3        3  \n",
      "10              1          4                  3           2        1  \n",
      "11              1          4                  2           3        3  \n",
      "12              1          4                  3           3        1  \n",
      "13              1          4                  3           4        5  \n",
      "14              1          0                  2           0        1  \n",
      "15              1          4                  3           5        5  \n",
      "16              1          0                  3           0        1  \n",
      "17              1          4                  2           3        1  \n",
      "18              1          4                  3           3        5  \n",
      "19              1          4                  3           3        5  \n",
      "20              1          4                  3           3        3  \n",
      "21              1          4                  3           4        1  \n",
      "22              1          4                  3           3        3  \n",
      "23              1          4                  3           2        3  \n",
      "24              1          4                  2           3        3  \n",
      "25              1          4                  3           4        1  \n",
      "26              1          4                  3           2        3  \n",
      "27              1          4                  3           2        3  \n",
      "28              1          4                  2           5        5  \n",
      "29              1          4                  3           4        0  \n",
      "...           ...        ...                ...         ...      ...  \n",
      "8094            2          4                  7           2        1  \n",
      "8095            0          3                  7           1        0  \n",
      "8096            2          4                  7           2        1  \n",
      "8097            1          0                  7           4        2  \n",
      "8098            1          0                  7           4        0  \n",
      "8099            2          4                  7           3        1  \n",
      "8100            1          4                  0           4        2  \n",
      "8101            1          0                  7           4        4  \n",
      "8102            1          4                  3           1        2  \n",
      "8103            1          4                  4           1        2  \n",
      "8104            1          4                  3           4        2  \n",
      "8105            1          4                  8           4        2  \n",
      "8106            1          4                  3           4        2  \n",
      "8107            1          4                  3           1        2  \n",
      "8108            1          0                  7           4        2  \n",
      "8109            2          4                  7           2        1  \n",
      "8110            1          4                  3           4        2  \n",
      "8111            2          4                  7           2        1  \n",
      "8112            1          4                  0           4        2  \n",
      "8113            1          0                  7           4        0  \n",
      "8114            0          3                  7           1        0  \n",
      "8115            1          4                  4           4        2  \n",
      "8116            1          0                  7           4        2  \n",
      "8117            1          0                  7           4        0  \n",
      "8118            1          0                  7           4        0  \n",
      "8119            1          4                  0           1        2  \n",
      "8120            1          4                  0           4        2  \n",
      "8121            1          4                  0           1        2  \n",
      "8122            1          0                  7           4        2  \n",
      "8123            1          4                  4           1        2  \n",
      "\n",
      "[8124 rows x 23 columns]\n"
     ]
    }
   ],
   "source": [
    "print(data)"
   ]
  },
  {
   "cell_type": "code",
   "execution_count": 43,
   "metadata": {},
   "outputs": [
    {
     "name": "stdout",
     "output_type": "stream",
     "text": [
      "<class 'pandas.core.frame.DataFrame'>\n"
     ]
    }
   ],
   "source": [
    "print(type(data))"
   ]
  },
  {
   "cell_type": "code",
   "execution_count": 44,
   "metadata": {},
   "outputs": [],
   "source": [
    "data = data.values"
   ]
  },
  {
   "cell_type": "code",
   "execution_count": 45,
   "metadata": {},
   "outputs": [
    {
     "name": "stdout",
     "output_type": "stream",
     "text": [
      "(8124, 22) (8124,)\n"
     ]
    }
   ],
   "source": [
    "xdata = data[:,1:]\n",
    "ydata = data[:,0]\n",
    "print(xdata.shape,ydata.shape)"
   ]
  },
  {
   "cell_type": "code",
   "execution_count": 46,
   "metadata": {},
   "outputs": [],
   "source": [
    "xtrain, xval, ytrain, yval = train_test_split(xdata,ydata,test_size=0.2,random_state = 2)"
   ]
  },
  {
   "cell_type": "code",
   "execution_count": 47,
   "metadata": {},
   "outputs": [
    {
     "name": "stdout",
     "output_type": "stream",
     "text": [
      "(6499, 22) (1625, 22) (6499,) (1625,)\n"
     ]
    }
   ],
   "source": [
    "print(xtrain.shape,xval.shape,ytrain.shape,yval.shape)"
   ]
  },
  {
   "cell_type": "markdown",
   "metadata": {},
   "source": [
    "# Naive Bayes Classifier"
   ]
  },
  {
   "cell_type": "code",
   "execution_count": 77,
   "metadata": {},
   "outputs": [],
   "source": [
    "def prior_prob(ytrain,label):\n",
    "    \n",
    "    num = np.sum( ytrain == label )\n",
    "    \n",
    "    return num/float(ytrain.shape[0])"
   ]
  },
  {
   "cell_type": "code",
   "execution_count": 78,
   "metadata": {},
   "outputs": [
    {
     "data": {
      "text/plain": [
       "0.51515617787351897"
      ]
     },
     "execution_count": 78,
     "metadata": {},
     "output_type": "execute_result"
    }
   ],
   "source": [
    "prior_prob(ytrain,0)"
   ]
  },
  {
   "cell_type": "code",
   "execution_count": 79,
   "metadata": {},
   "outputs": [],
   "source": [
    "def cond_prob(xtrain,ytrain,feature_col,feature_val,label):\n",
    "    \n",
    "    xfilt = xtrain[ytrain==label]\n",
    "    constraint= np.sum(xfilt[:,feature_col]==feature_val)\n",
    "    prob_value = constraint/float(xfilt.shape[0])\n",
    "    return prob_value"
   ]
  },
  {
   "cell_type": "code",
   "execution_count": 96,
   "metadata": {},
   "outputs": [],
   "source": [
    "def predictions(xtrain,ytrain,xtest):\n",
    "    \n",
    "    result = []\n",
    "    classes = np.unique(ytrain)\n",
    "    \n",
    "    for ix in xtest:      \n",
    "        \n",
    "        preds = []\n",
    "        \n",
    "        for jx in classes:\n",
    "            \n",
    "            priorpb = prior_prob(ytrain,jx)\n",
    "   \n",
    "            likelihood = 1.0\n",
    "            \n",
    "            for fx in range(xtrain.shape[1]):\n",
    "                \n",
    "                cond = cond_prob(xtrain,ytrain,fx,ix[fx],jx) \n",
    "                likelihood *= cond\n",
    "            \n",
    "            \n",
    "            posterior_prob = priorpb * likelihood\n",
    "            \n",
    "            preds.append([posterior_prob,jx])\n",
    "        \n",
    "        preds = np.array(preds)\n",
    "        \n",
    "        index = np.argmax(preds[:,0])\n",
    "        \n",
    "        final_class = preds[index][1]\n",
    "        \n",
    "        result.append(final_class)\n",
    "        \n",
    "    return result"
   ]
  },
  {
   "cell_type": "code",
   "execution_count": 97,
   "metadata": {},
   "outputs": [],
   "source": [
    "pred = predictions(xtrain,ytrain,xval)"
   ]
  },
  {
   "cell_type": "code",
   "execution_count": 98,
   "metadata": {},
   "outputs": [],
   "source": [
    "def score(ytest,pred):\n",
    "    return np.sum(ytest==pred)/ytest.shape[0]"
   ]
  },
  {
   "cell_type": "code",
   "execution_count": 99,
   "metadata": {},
   "outputs": [
    {
     "data": {
      "text/plain": [
       "0.99446153846153851"
      ]
     },
     "execution_count": 99,
     "metadata": {},
     "output_type": "execute_result"
    }
   ],
   "source": [
    "score(yval,pred)"
   ]
  },
  {
   "cell_type": "code",
   "execution_count": null,
   "metadata": {},
   "outputs": [],
   "source": []
  }
 ],
 "metadata": {
  "kernelspec": {
   "display_name": "Python 3",
   "language": "python",
   "name": "python3"
  },
  "language_info": {
   "codemirror_mode": {
    "name": "ipython",
    "version": 3
   },
   "file_extension": ".py",
   "mimetype": "text/x-python",
   "name": "python",
   "nbconvert_exporter": "python",
   "pygments_lexer": "ipython3",
   "version": "3.5.2"
  }
 },
 "nbformat": 4,
 "nbformat_minor": 2
}
