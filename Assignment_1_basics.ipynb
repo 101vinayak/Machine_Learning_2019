{
 "cells": [
  {
   "cell_type": "markdown",
   "metadata": {},
   "source": [
    "# 1 Questions to practice\n",
    "\n",
    "1.1 Questions"
   ]
  },
  {
   "cell_type": "markdown",
   "metadata": {},
   "source": [
    "1 . Calculate length of a list"
   ]
  },
  {
   "cell_type": "code",
   "execution_count": 1,
   "metadata": {},
   "outputs": [
    {
     "name": "stdout",
     "output_type": "stream",
     "text": [
      "5\n"
     ]
    }
   ],
   "source": [
    "mylist = list([1,2,3,4,5]) #random list\n",
    "\n",
    "print(len(mylist)) #calculating length of list"
   ]
  },
  {
   "cell_type": "markdown",
   "metadata": {},
   "source": [
    "2 . which will create a list: - some_list = list() - some_list = list([1, 2, 3]) - some_list\n",
    "= [1, 2, 3] - some_list = list(1, 2, 3)"
   ]
  },
  {
   "cell_type": "code",
   "execution_count": 2,
   "metadata": {},
   "outputs": [
    {
     "name": "stdout",
     "output_type": "stream",
     "text": [
      "<class 'list'>\n",
      "<class 'list'>\n",
      "<class 'list'>\n"
     ]
    },
    {
     "ename": "TypeError",
     "evalue": "list() takes at most 1 argument (3 given)",
     "output_type": "error",
     "traceback": [
      "\u001b[0;31m---------------------------------------------------------------------------\u001b[0m",
      "\u001b[0;31mTypeError\u001b[0m                                 Traceback (most recent call last)",
      "\u001b[0;32m<ipython-input-2-37e4f1fbb430>\u001b[0m in \u001b[0;36m<module>\u001b[0;34m()\u001b[0m\n\u001b[1;32m      8\u001b[0m \u001b[0mprint\u001b[0m\u001b[0;34m(\u001b[0m\u001b[0mtype\u001b[0m\u001b[0;34m(\u001b[0m\u001b[0mList3\u001b[0m\u001b[0;34m)\u001b[0m\u001b[0;34m)\u001b[0m\u001b[0;34m\u001b[0m\u001b[0;34m\u001b[0m\u001b[0m\n\u001b[1;32m      9\u001b[0m \u001b[0;34m\u001b[0m\u001b[0m\n\u001b[0;32m---> 10\u001b[0;31m \u001b[0mList4\u001b[0m \u001b[0;34m=\u001b[0m \u001b[0mlist\u001b[0m\u001b[0;34m(\u001b[0m\u001b[0;36m1\u001b[0m\u001b[0;34m,\u001b[0m\u001b[0;36m2\u001b[0m\u001b[0;34m,\u001b[0m\u001b[0;36m3\u001b[0m\u001b[0;34m)\u001b[0m       \u001b[0;31m# doesn't produces a python list(see error below)\u001b[0m\u001b[0;34m\u001b[0m\u001b[0;34m\u001b[0m\u001b[0m\n\u001b[0m\u001b[1;32m     11\u001b[0m \u001b[0mprint\u001b[0m\u001b[0;34m(\u001b[0m\u001b[0mtype\u001b[0m\u001b[0;34m(\u001b[0m\u001b[0mList4\u001b[0m\u001b[0;34m)\u001b[0m\u001b[0;34m)\u001b[0m\u001b[0;34m\u001b[0m\u001b[0;34m\u001b[0m\u001b[0m\n",
      "\u001b[0;31mTypeError\u001b[0m: list() takes at most 1 argument (3 given)"
     ]
    }
   ],
   "source": [
    "List1 = list()             # successfully produces a python list\n",
    "print(type(List1))\n",
    "\n",
    "List2 = list([1,2,3])      # successfully produces a python list\n",
    "print(type(List2))\n",
    "\n",
    "List3 = [1,2,3]           # successfully produces a python list\n",
    "print(type(List3))\n",
    "\n",
    "List4 = list(1,2,3)       # doesn't produces a python list(see error below)\n",
    "print(type(List4))\n"
   ]
  },
  {
   "cell_type": "markdown",
   "metadata": {},
   "source": [
    "3 . let a list be s = [1, 3, 2, 1, 5, 3, 9] . use min(s) , max(s) , sum(s) . also calculate the\n",
    "average of the list."
   ]
  },
  {
   "cell_type": "code",
   "execution_count": 3,
   "metadata": {},
   "outputs": [
    {
     "name": "stdout",
     "output_type": "stream",
     "text": [
      "min(s): 1\n",
      "max(s): 9\n",
      "sum(s): 24\n",
      "avg(s): 3.43\n"
     ]
    }
   ],
   "source": [
    "s = [1,3,2,1,5,3,9]\n",
    "print(\"min(s): \" + str(min(s)))\n",
    "print(\"max(s): \" + str(max(s)))\n",
    "print(\"sum(s): \" + str(sum(s)))\n",
    "print(\"avg(s): %0.2f\"%(sum(s)/len(s)))"
   ]
  },
  {
   "cell_type": "markdown",
   "metadata": {},
   "source": [
    "4 . use import random and call random.shuffle(some_list) to shuffle the contents of the list\n",
    "some_list"
   ]
  },
  {
   "cell_type": "code",
   "execution_count": 4,
   "metadata": {},
   "outputs": [
    {
     "name": "stdout",
     "output_type": "stream",
     "text": [
      "[5, 9, 1, 3, 3, 2, 1]\n"
     ]
    }
   ],
   "source": [
    "import random\n",
    "random.shuffle(s)\n",
    "print(s)"
   ]
  },
  {
   "cell_type": "markdown",
   "metadata": {},
   "source": [
    "5 . print the last 3 elements of a list without using for loops."
   ]
  },
  {
   "cell_type": "code",
   "execution_count": 5,
   "metadata": {},
   "outputs": [
    {
     "name": "stdout",
     "output_type": "stream",
     "text": [
      "[3, 2, 1]\n"
     ]
    }
   ],
   "source": [
    "print(s[-3:])"
   ]
  },
  {
   "cell_type": "markdown",
   "metadata": {},
   "source": [
    "6 . let some_list = [1, 2, 3, 6, 5, 1, 7, 3] . what is the output of: - some_list[:-1] - some_list[-4:-2] - some_list[2:-3]"
   ]
  },
  {
   "cell_type": "code",
   "execution_count": 6,
   "metadata": {},
   "outputs": [
    {
     "name": "stdout",
     "output_type": "stream",
     "text": [
      "3\n",
      "[3, 6, 5]\n"
     ]
    }
   ],
   "source": [
    "lis = [1, 2, 3, 6, 5, 1, 7, 3] \n",
    "print(lis[-1])               # prints last element of list\n",
    "\n",
    "# print(list[-4:2])          # produces error(uncomment it and run to check)\n",
    "\n",
    "print(lis[2:-3])            # prints 3,6,5\n",
    "\n"
   ]
  },
  {
   "cell_type": "markdown",
   "metadata": {},
   "source": [
    "7 . Let this section of code as in next cell"
   ]
  },
  {
   "cell_type": "code",
   "execution_count": 7,
   "metadata": {},
   "outputs": [
    {
     "name": "stdout",
     "output_type": "stream",
     "text": [
      "list1 = [10, 'a']\n",
      "list2 = [123]\n",
      "list3 = [10, 'a']\n"
     ]
    }
   ],
   "source": [
    "def extendList(val, list=[]):\n",
    "\n",
    "    list.append(val)\n",
    "    return list\n",
    "\n",
    "\n",
    "list1 = extendList(10)\n",
    "list2 = extendList(123,[])\n",
    "list3 = extendList('a')\n",
    "print(\"list1 = %s\" % list1)\n",
    "print(\"list2 = %s\" % list2)\n",
    "print(\"list3 = %s\" % list3)"
   ]
  },
  {
   "cell_type": "code",
   "execution_count": 8,
   "metadata": {},
   "outputs": [
    {
     "name": "stdout",
     "output_type": "stream",
     "text": [
      "method 1:\n",
      "list1 = [34]\n",
      "list2 = [10, 'a', 56]\n",
      "\n",
      "method 2:\n",
      "list1 = [34]\n"
     ]
    }
   ],
   "source": [
    "# to correct the ambiguity in above segment of code try to prefer \n",
    "# of following methods\n",
    "\n",
    "# either pass a new list or copy of already existing lists\n",
    "list4 = extendList(34,list())\n",
    "list5 = extendList(56)\n",
    "print(\"method 1:\")\n",
    "print(\"list1 = %s\" % list4)  \n",
    "print(\"list2 = %s\" % list5)\n",
    "print()\n",
    "\n",
    "# prefer slicing \n",
    "print(\"method 2:\")\n",
    "s = []\n",
    "list6 = extendList(34,s[:])\n",
    "print(\"list1 = %s\" % list6)  \n"
   ]
  },
  {
   "cell_type": "markdown",
   "metadata": {},
   "source": [
    "8 . given some code using classes:"
   ]
  },
  {
   "cell_type": "code",
   "execution_count": 9,
   "metadata": {},
   "outputs": [
    {
     "name": "stdout",
     "output_type": "stream",
     "text": [
      "1\n",
      "1 1 1 1 1 1 1 1 1 1 \n",
      "5 5 5 5 5 5 5 5 5 5 "
     ]
    }
   ],
   "source": [
    "class A():\n",
    "    x = 1\n",
    "\n",
    "a = A()\n",
    "print(a.x)\n",
    "\n",
    "b = [A()] * 10\n",
    "for ix in b:\n",
    "    print(ix.x,end=\" \")\n",
    "\n",
    "print()\n",
    "b[2].x = 5\n",
    "\n",
    "for ix in b:\n",
    "    print(ix.x,end = \" \")"
   ]
  },
  {
   "cell_type": "code",
   "execution_count": 10,
   "metadata": {},
   "outputs": [
    {
     "name": "stdout",
     "output_type": "stream",
     "text": [
      "1\n",
      "1 1 1 1 1 1 1 1 1 1 \n",
      "1 1 5 1 1 1 1 1 1 1 "
     ]
    }
   ],
   "source": [
    "# solution\n",
    "\n",
    "class A():\n",
    "    x = 1\n",
    "\n",
    "a = A()\n",
    "print(a.x)\n",
    "\n",
    "b = []\n",
    "for ix in range(10):\n",
    "    b.append(A())\n",
    "    \n",
    "for ix in b:\n",
    "    print(ix.x,end = \" \")\n",
    "print()\n",
    "\n",
    "b[2].x = 5\n",
    "\n",
    "for ix in b:\n",
    "    print(ix.x,end = \" \")"
   ]
  },
  {
   "cell_type": "markdown",
   "metadata": {},
   "source": [
    "9. use sorted in lists. consider the code below"
   ]
  },
  {
   "cell_type": "code",
   "execution_count": 11,
   "metadata": {},
   "outputs": [
    {
     "name": "stdout",
     "output_type": "stream",
     "text": [
      "On basis of a\n",
      "11 42\n",
      "8 0\n",
      "7 3\n",
      "5 4\n",
      "5 9\n",
      "1 2\n",
      "\n",
      "\n",
      "On basis of b\n",
      "11 42\n",
      "5 9\n",
      "5 4\n",
      "7 3\n",
      "1 2\n",
      "8 0\n"
     ]
    }
   ],
   "source": [
    "class Obj:\n",
    "    def __init__(self, a=0, b=1):\n",
    "        self.a = a\n",
    "        self.b = b\n",
    "\n",
    "if __name__ == \"__main__\":\n",
    "    objects = [Obj(1, 2), Obj(5, 4), Obj(7, 3),Obj(11, 42), Obj(8, 0), Obj(5, 9)]\n",
    "    print(\"On basis of a\")\n",
    "    objects = sorted(objects, key = lambda x: x.a,reverse = True)\n",
    "    for ix in objects:\n",
    "        print(str(ix.a)+\" \"+str(ix.b))\n",
    "    \n",
    "    print()\n",
    "    print()\n",
    "    print(\"On basis of b\")\n",
    "    objects = sorted(objects, key = lambda x: x.b,reverse = True)\n",
    "    for ix in objects:\n",
    "        print(str(ix.a)+\" \"+str(ix.b))"
   ]
  },
  {
   "cell_type": "markdown",
   "metadata": {},
   "source": [
    "10 . List and string slicing\n",
    "s = \"This is introduction to python for web development\"\n",
    " Obtain each word of the string in a list."
   ]
  },
  {
   "cell_type": "code",
   "execution_count": 12,
   "metadata": {},
   "outputs": [
    {
     "name": "stdout",
     "output_type": "stream",
     "text": [
      "['This', 'is', 'introduction', 'to', 'python', 'for', 'web', 'development']\n"
     ]
    }
   ],
   "source": [
    "s = \"This is introduction to python for web development\" \n",
    "wordlist = s.split()\n",
    "print(wordlist)"
   ]
  },
  {
   "cell_type": "markdown",
   "metadata": {},
   "source": [
    "11 . Print Pyramid patterns using for and while loops"
   ]
  },
  {
   "cell_type": "code",
   "execution_count": 13,
   "metadata": {},
   "outputs": [
    {
     "data": {
      "text/plain": [
       "'\\n@\\n@@\\n@@@\\n@@@@\\n@@@@@'"
      ]
     },
     "execution_count": 13,
     "metadata": {},
     "output_type": "execute_result"
    }
   ],
   "source": [
    "\"\"\"\n",
    "@\n",
    "@@\n",
    "@@@\n",
    "@@@@\n",
    "@@@@@\"\"\"\n"
   ]
  },
  {
   "cell_type": "code",
   "execution_count": 14,
   "metadata": {},
   "outputs": [
    {
     "name": "stdout",
     "output_type": "stream",
     "text": [
      "@\n",
      "@@\n",
      "@@@\n",
      "@@@@\n",
      "@@@@@\n"
     ]
    }
   ],
   "source": [
    "for ix in range(5):\n",
    "    temp = \"\"\n",
    "    for jx in range(ix+1):\n",
    "        temp = \"@\"+temp\n",
    "    print(temp)"
   ]
  },
  {
   "cell_type": "code",
   "execution_count": 15,
   "metadata": {},
   "outputs": [
    {
     "name": "stdout",
     "output_type": "stream",
     "text": [
      "@\n",
      "@@\n",
      "@@@\n",
      "@@@@\n",
      "@@@@@\n"
     ]
    }
   ],
   "source": [
    "# without twoo loops\n",
    "string = '@'\n",
    "for ix in range(5):\n",
    "    print(string)\n",
    "    string += '@'"
   ]
  },
  {
   "cell_type": "markdown",
   "metadata": {},
   "source": [
    "12 . What will the following code print\n",
    "some_string = \"abacdaegakialaop\"\n",
    "print some_string.split('a', 2)"
   ]
  },
  {
   "cell_type": "code",
   "execution_count": 16,
   "metadata": {},
   "outputs": [
    {
     "name": "stdout",
     "output_type": "stream",
     "text": [
      "['', 'b', 'cdaegakialaop']\n"
     ]
    }
   ],
   "source": [
    "string = \"abacdaegakialaop\"\n",
    "print(string.split('a',2))\n",
    "\n",
    "\n",
    "#str.split(separator, maxsplit)\n",
    "\n",
    "# split() method returns a list of strings after breaking the given \n",
    "# string by the specified separator."
   ]
  },
  {
   "cell_type": "markdown",
   "metadata": {},
   "source": []
  },
  {
   "cell_type": "code",
   "execution_count": null,
   "metadata": {},
   "outputs": [],
   "source": []
  }
 ],
 "metadata": {
  "kernelspec": {
   "display_name": "Python 3",
   "language": "python",
   "name": "python3"
  },
  "language_info": {
   "codemirror_mode": {
    "name": "ipython",
    "version": 3
   },
   "file_extension": ".py",
   "mimetype": "text/x-python",
   "name": "python",
   "nbconvert_exporter": "python",
   "pygments_lexer": "ipython3",
   "version": "3.6.7"
  }
 },
 "nbformat": 4,
 "nbformat_minor": 2
}
